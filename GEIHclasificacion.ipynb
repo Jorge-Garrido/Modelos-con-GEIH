{
 "cells": [
  {
   "cell_type": "markdown",
   "metadata": {
    "tags": []
   },
   "source": [
    "# Modelos de clasificacion"
   ]
  },
  {
   "cell_type": "markdown",
   "metadata": {
    "tags": []
   },
   "source": [
    "## Acceso a internet\n",
    "Este modelo busca predecir si algun Colombiano tiene acceso a internet dadas sus caracteristicas"
   ]
  },
  {
   "cell_type": "code",
   "execution_count": 31,
   "metadata": {
    "tags": []
   },
   "outputs": [],
   "source": [
    "from sklearn.linear_model import LogisticRegression\n",
    "from sklearn.ensemble import RandomForestClassifier\n",
    "from sklearn.svm import SVC\n",
    "from sklearn.metrics import accuracy_score"
   ]
  },
  {
   "cell_type": "code",
   "execution_count": 32,
   "metadata": {
    "tags": []
   },
   "outputs": [],
   "source": [
    "y = df1['internet']\n",
    "X = df1.drop('internet', axis = 1)\n"
   ]
  },
  {
   "cell_type": "code",
   "execution_count": 33,
   "metadata": {
    "tags": []
   },
   "outputs": [
    {
     "data": {
      "text/plain": [
       "internet                         1.000000\n",
       "television                       0.532127\n",
       "computador                       0.476796\n",
       "lavadora                         0.428317\n",
       "educacion**2                     0.317302\n",
       "educacion                        0.314611\n",
       "#_cuartos_vivienda               0.297758\n",
       "nevera                           0.288959\n",
       "carroparticular                  0.235841\n",
       "INGLABO                          0.222275\n",
       "tipocontrato_Verbal              0.158479\n",
       "estado_civil_Casados             0.153470\n",
       "moto                             0.152343\n",
       "estufa                           0.136146\n",
       "tipocupacion_empleadoempresa     0.128095\n",
       "tipocupacion_empleadogobierno    0.112286\n",
       "seguridadsocial_asegurado        0.104092\n",
       "Name: internet, dtype: float64"
      ]
     },
     "execution_count": 33,
     "metadata": {},
     "output_type": "execute_result"
    }
   ],
   "source": [
    "correlacion(df1,'internet')"
   ]
  },
  {
   "cell_type": "code",
   "execution_count": 34,
   "metadata": {
    "tags": []
   },
   "outputs": [],
   "source": [
    "def logit_svm_random_forest(X,y,kernel_svc):\n",
    "    num_variables = len(X.columns)\n",
    "    X_train, X_test, y_train, y_test = train_test_split(X, y, test_size=0.33, random_state=42)\n",
    "    #normalizacion de X\n",
    "    sc = StandardScaler()\n",
    "    X_train = sc.fit_transform(X_train)\n",
    "    X_test = sc.transform(X_test)\n",
    "    #modelo Logit\n",
    "    lg = LogisticRegression().fit(X_train,y_train)\n",
    "    #predicciones\n",
    "    y_hat_logit = lg.predict(X_test)\n",
    "    #metricas logit\n",
    "    rmse_logit = np.sqrt(mean_squared_error(y_test,y_hat_logit))\n",
    "    mse_logit = mean_squared_error(y_test,y_hat_logit)\n",
    "    accuracy_logit = accuracy_score(y_test,y_hat_logit)\n",
    "    logit = [rmse_logit, mse_logit,accuracy_logit,num_variables]\n",
    "    # SVC\n",
    "    svc = SVC(kernel = kernel_svc).fit(X_train,y_train)\n",
    "    #predicciones svc\n",
    "    y_hat_svc = svc.predict(X_test)\n",
    "    # metricas svc\n",
    "    rmse_svc = np.sqrt(mean_squared_error(y_test,y_hat_svc))\n",
    "    mse_svc = mean_squared_error(y_test,y_hat_svc)\n",
    "    accuracy_svc = accuracy_score(y_test,y_hat_svc)\n",
    "    svmm=[rmse_svc,mse_svc,accuracy_svc,num_variables]\n",
    "    # Random forest\n",
    "    rf = RandomForestClassifier().fit(X_train,y_train)\n",
    "    # predicciones random forest\n",
    "    y_hat_rf = rf.predict(X_test)\n",
    "    #metricas random forest\n",
    "    rmse_rf = np.sqrt(mean_squared_error(y_test,y_hat_rf))\n",
    "    mse_rf = mean_squared_error(y_test,y_hat_rf)\n",
    "    accuracy_rf = accuracy_score(y_test,y_hat_rf)\n",
    "    rff=[rmse_rf,mse_rf,accuracy_svc,num_variables]\n",
    "    # se crea un data frame para guardar resultados\n",
    "    metricas = pd.DataFrame(np.column_stack([logit, svmm, rff]), \n",
    "                               columns=['logit', 'SVC', 'Random forest'],\n",
    "                            index=['rmse','mse','accuracy','numero de variables'])\n",
    "   \n",
    "    return metricas.T\n",
    "    \n",
    "    "
   ]
  },
  {
   "cell_type": "code",
   "execution_count": 35,
   "metadata": {
    "tags": []
   },
   "outputs": [
    {
     "data": {
      "text/html": [
       "<div>\n",
       "<style scoped>\n",
       "    .dataframe tbody tr th:only-of-type {\n",
       "        vertical-align: middle;\n",
       "    }\n",
       "\n",
       "    .dataframe tbody tr th {\n",
       "        vertical-align: top;\n",
       "    }\n",
       "\n",
       "    .dataframe thead th {\n",
       "        text-align: right;\n",
       "    }\n",
       "</style>\n",
       "<table border=\"1\" class=\"dataframe\">\n",
       "  <thead>\n",
       "    <tr style=\"text-align: right;\">\n",
       "      <th></th>\n",
       "      <th>rmse</th>\n",
       "      <th>mse</th>\n",
       "      <th>accuracy</th>\n",
       "      <th>numero de variables</th>\n",
       "    </tr>\n",
       "  </thead>\n",
       "  <tbody>\n",
       "    <tr>\n",
       "      <th>logit</th>\n",
       "      <td>0.401019</td>\n",
       "      <td>0.160817</td>\n",
       "      <td>0.839183</td>\n",
       "      <td>62.0</td>\n",
       "    </tr>\n",
       "    <tr>\n",
       "      <th>SVC</th>\n",
       "      <td>0.396529</td>\n",
       "      <td>0.157235</td>\n",
       "      <td>0.842765</td>\n",
       "      <td>62.0</td>\n",
       "    </tr>\n",
       "    <tr>\n",
       "      <th>Random forest</th>\n",
       "      <td>0.384607</td>\n",
       "      <td>0.147923</td>\n",
       "      <td>0.842765</td>\n",
       "      <td>62.0</td>\n",
       "    </tr>\n",
       "  </tbody>\n",
       "</table>\n",
       "</div>"
      ],
      "text/plain": [
       "                   rmse       mse  accuracy  numero de variables\n",
       "logit          0.401019  0.160817  0.839183                 62.0\n",
       "SVC            0.396529  0.157235  0.842765                 62.0\n",
       "Random forest  0.384607  0.147923  0.842765                 62.0"
      ]
     },
     "execution_count": 35,
     "metadata": {},
     "output_type": "execute_result"
    }
   ],
   "source": [
    "logit_svm_random_forest(X,y,'rbf')\n"
   ]
  },
  {
   "cell_type": "markdown",
   "metadata": {
    "tags": []
   },
   "source": [
    "## Tenencia de vehiculo"
   ]
  },
  {
   "cell_type": "code",
   "execution_count": 36,
   "metadata": {
    "tags": []
   },
   "outputs": [
    {
     "data": {
      "text/plain": [
       "carroparticular                  1.000000\n",
       "INGLABO                          0.364283\n",
       "educacion**2                     0.361123\n",
       "computador                       0.328572\n",
       "educacion                        0.313297\n",
       "estado_civil_Casados             0.244289\n",
       "internet                         0.235841\n",
       "#_cuartos_vivienda               0.231026\n",
       "lavadora                         0.219513\n",
       "television                       0.195148\n",
       "tipocupacion_empleadogobierno    0.181791\n",
       "nevera                           0.126065\n",
       "tipocupacion_empleador           0.116147\n",
       "Name: carroparticular, dtype: float64"
      ]
     },
     "execution_count": 36,
     "metadata": {},
     "output_type": "execute_result"
    }
   ],
   "source": [
    "correlacion(df1,'carroparticular')"
   ]
  },
  {
   "cell_type": "code",
   "execution_count": 37,
   "metadata": {
    "tags": []
   },
   "outputs": [],
   "source": [
    "y = df1['carroparticular'].values\n",
    "X = df1.drop('carroparticular', axis = 1)"
   ]
  },
  {
   "cell_type": "code",
   "execution_count": 38,
   "metadata": {
    "tags": []
   },
   "outputs": [
    {
     "data": {
      "text/html": [
       "<div>\n",
       "<style scoped>\n",
       "    .dataframe tbody tr th:only-of-type {\n",
       "        vertical-align: middle;\n",
       "    }\n",
       "\n",
       "    .dataframe tbody tr th {\n",
       "        vertical-align: top;\n",
       "    }\n",
       "\n",
       "    .dataframe thead th {\n",
       "        text-align: right;\n",
       "    }\n",
       "</style>\n",
       "<table border=\"1\" class=\"dataframe\">\n",
       "  <thead>\n",
       "    <tr style=\"text-align: right;\">\n",
       "      <th></th>\n",
       "      <th>rmse</th>\n",
       "      <th>mse</th>\n",
       "      <th>accuracy</th>\n",
       "      <th>numero de variables</th>\n",
       "    </tr>\n",
       "  </thead>\n",
       "  <tbody>\n",
       "    <tr>\n",
       "      <th>logit</th>\n",
       "      <td>0.340655</td>\n",
       "      <td>0.116046</td>\n",
       "      <td>0.883954</td>\n",
       "      <td>62.0</td>\n",
       "    </tr>\n",
       "    <tr>\n",
       "      <th>SVC</th>\n",
       "      <td>0.343273</td>\n",
       "      <td>0.117837</td>\n",
       "      <td>0.882163</td>\n",
       "      <td>62.0</td>\n",
       "    </tr>\n",
       "    <tr>\n",
       "      <th>Random forest</th>\n",
       "      <td>0.333214</td>\n",
       "      <td>0.111032</td>\n",
       "      <td>0.882163</td>\n",
       "      <td>62.0</td>\n",
       "    </tr>\n",
       "  </tbody>\n",
       "</table>\n",
       "</div>"
      ],
      "text/plain": [
       "                   rmse       mse  accuracy  numero de variables\n",
       "logit          0.340655  0.116046  0.883954                 62.0\n",
       "SVC            0.343273  0.117837  0.882163                 62.0\n",
       "Random forest  0.333214  0.111032  0.882163                 62.0"
      ]
     },
     "execution_count": 38,
     "metadata": {},
     "output_type": "execute_result"
    }
   ],
   "source": [
    "logit_svm_random_forest(X,y,'rbf')"
   ]
  }
 ],
 "metadata": {
  "colab": {
   "authorship_tag": "ABX9TyNeVBZYva880qzMUSgv33CV",
   "provenance": []
  },
  "kernelspec": {
   "display_name": "Python 3 (ipykernel)",
   "language": "python",
   "name": "python3"
  },
  "language_info": {
   "codemirror_mode": {
    "name": "ipython",
    "version": 3
   },
   "file_extension": ".py",
   "mimetype": "text/x-python",
   "name": "python",
   "nbconvert_exporter": "python",
   "pygments_lexer": "ipython3",
   "version": "3.11.4"
  }
 },
 "nbformat": 4,
 "nbformat_minor": 4
}
