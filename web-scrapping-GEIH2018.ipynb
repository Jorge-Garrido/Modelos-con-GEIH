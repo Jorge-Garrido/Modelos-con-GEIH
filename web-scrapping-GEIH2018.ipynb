{
 "cells": [
  {
   "cell_type": "markdown",
   "id": "23bdd02f-0971-4575-a71a-3d4613ca0e47",
   "metadata": {
    "tags": []
   },
   "source": [
    "# Web Scrapper"
   ]
  },
  {
   "cell_type": "code",
   "execution_count": 1,
   "id": "480536a7-fadb-4967-97bd-ae69720724d2",
   "metadata": {
    "tags": []
   },
   "outputs": [],
   "source": [
    "# importaciones\n",
    "from selenium import webdriver\n",
    "# se necesita selenium porque la informacion de la pagina es dinamica y no se puede acceder directo con el html\n",
    "from selenium.webdriver.common.by import By\n",
    "from selenium.webdriver.support.ui import WebDriverWait\n",
    "from selenium.webdriver.support import expected_conditions as EC\n",
    "# Libreria de Web Scraping\n",
    "from bs4 import BeautifulSoup\n",
    "# Libreria de Data Frames\n",
    "import pandas as pd\n",
    "import numpy as np"
   ]
  },
  {
   "cell_type": "code",
   "execution_count": 2,
   "id": "c13fe11d-b3ab-4150-a9ff-e8d1b6197a44",
   "metadata": {
    "tags": []
   },
   "outputs": [
    {
     "name": "stdout",
     "output_type": "stream",
     "text": [
      "Se ha scrapeado el Data Chunk #1--URL: https://ignaciomsarmiento.github.io/GEIH2018_sample/page1.html\n",
      "Se ha scrapeado el Data Chunk #2--URL: https://ignaciomsarmiento.github.io/GEIH2018_sample/page2.html\n",
      "Se ha scrapeado el Data Chunk #3--URL: https://ignaciomsarmiento.github.io/GEIH2018_sample/page3.html\n",
      "Se ha scrapeado el Data Chunk #4--URL: https://ignaciomsarmiento.github.io/GEIH2018_sample/page4.html\n",
      "Se ha scrapeado el Data Chunk #5--URL: https://ignaciomsarmiento.github.io/GEIH2018_sample/page5.html\n",
      "Se ha scrapeado el Data Chunk #6--URL: https://ignaciomsarmiento.github.io/GEIH2018_sample/page6.html\n",
      "Se ha scrapeado el Data Chunk #7--URL: https://ignaciomsarmiento.github.io/GEIH2018_sample/page7.html\n",
      "Se ha scrapeado el Data Chunk #8--URL: https://ignaciomsarmiento.github.io/GEIH2018_sample/page8.html\n",
      "Se ha scrapeado el Data Chunk #9--URL: https://ignaciomsarmiento.github.io/GEIH2018_sample/page9.html\n",
      "Se ha scrapeado el Data Chunk #10--URL: https://ignaciomsarmiento.github.io/GEIH2018_sample/page10.html\n",
      "El Data Frame esta listo, hay: 32186 observaciones\n"
     ]
    }
   ],
   "source": [
    "# Se crea una lista vacía para almacenar los datos\n",
    "data = []\n",
    "for i in range(1,11):\n",
    "    # para hacer todos los urls a la vez\n",
    "    url = 'https://ignaciomsarmiento.github.io/GEIH2018_sample/page'+str(i)+'.html'\n",
    "    # se inicializa el driver\n",
    "    driver = webdriver.Chrome()\n",
    "    # se usa el url en el driver\n",
    "    driver.get(url)\n",
    "    # como es una pagina web con informacion dinámica hay que esperar que la tabla cargue\n",
    "    wait = WebDriverWait(driver, 10)\n",
    "    table = wait.until(EC.presence_of_element_located((By.XPATH, '//table')))\n",
    "    # Ahora si se puede utilzar Beautiful Soup que se usaria para paginas web estaticas\n",
    "    soup = BeautifulSoup(driver.page_source, 'html.parser')\n",
    "    # Ahora si esta disponible el tag <table> que no estaría disponible sin Selenium\n",
    "    tabla_html = soup.find('table')\n",
    "    # Se cierra el navegador\n",
    "    driver.quit()\n",
    "    # Ahora se va a convertir en una tabla de Pandas\n",
    "    # Se obtienen las filas de la tabla\n",
    "    filas = tabla_html.find_all('tr')\n",
    "    # Se itera a traves de las filas para obtener los datos de cada celda\n",
    "    for fila in filas:\n",
    "        # Suponiendo que los datos están en las celdas <td>\n",
    "        fila_data = [celda.text.strip() for celda in fila.find_all('td')]  # Obtener el texto de cada celda y limpiarlo\n",
    "        data.append(fila_data)\n",
    "    print('Se ha scrapeado el Data Chunk #'+str(i)+'--URL: '+url)\n",
    "# Se crea un Data frame pero se deja por fuera del loop para que los datos de todas las paginas queden en la misma lista y luego solo se convierta una vez en DataFrame\n",
    "df = pd.DataFrame(data)\n",
    "# Se agregan los encabezados que estan en <th>\n",
    "encabezados = [encabezado.text.strip() for encabezado in filas[0].find_all('th')]\n",
    "df.columns = encabezados\n",
    "# Se quita la primera fila que quedo con None\n",
    "df = df.drop(0, axis=0)\n",
    "print('El Data Frame esta listo, hay: '+str(len(df))+ ' observaciones' )\n",
    "\n",
    "    \n",
    "\n"
   ]
  },
  {
   "cell_type": "markdown",
   "id": "ca689a65-b368-45e0-8daa-250b54a1212d",
   "metadata": {
    "tags": []
   },
   "source": [
    "# Limpieza de datos"
   ]
  },
  {
   "cell_type": "code",
   "execution_count": 31,
   "id": "a9975b35-d588-46b0-975d-6be1c118892d",
   "metadata": {},
   "outputs": [],
   "source": [
    "# se eliminan los valores nulos\n",
    "# se dejan solo las variables que se van a necesitar en el taller\n",
    "df_2_3 = df[['y_salary_m','age','sex','maxEducLevel']]\n",
    "df_2_3.columns = ['Salario','Edad','Genero','Educacion']"
   ]
  },
  {
   "cell_type": "code",
   "execution_count": 32,
   "id": "dc0a74d7-a4fd-4460-8de7-78b3809a9675",
   "metadata": {
    "tags": []
   },
   "outputs": [
    {
     "name": "stdout",
     "output_type": "stream",
     "text": [
      "Despues de la limpieza quedan 9891 observaciones\n"
     ]
    }
   ],
   "source": [
    "# se dejan solo los valores que son diferentes de 'NA'\n",
    "# Los NA quedan como NaN y por ende se pueden borrar mediante pandas\n",
    "df_2_3 = df_2_3[df_2_3!='NA'].astype(float)\n",
    "#Aca se borran los NAN y se cambia el tipo de object a Float para poder hacer modelos y operaciones\n",
    "df_2_3 = df_2_3[df_2_3['Edad']>=18].dropna()\n",
    "\n",
    "print('Despues de la limpieza quedan '+str(len(df_2_3))+' observaciones')"
   ]
  },
  {
   "cell_type": "code",
   "execution_count": 6,
   "id": "e7960047-f11e-4704-9298-0ea1d6b0852a",
   "metadata": {
    "tags": []
   },
   "outputs": [
    {
     "data": {
      "text/html": [
       "<div>\n",
       "<style scoped>\n",
       "    .dataframe tbody tr th:only-of-type {\n",
       "        vertical-align: middle;\n",
       "    }\n",
       "\n",
       "    .dataframe tbody tr th {\n",
       "        vertical-align: top;\n",
       "    }\n",
       "\n",
       "    .dataframe thead th {\n",
       "        text-align: right;\n",
       "    }\n",
       "</style>\n",
       "<table border=\"1\" class=\"dataframe\">\n",
       "  <thead>\n",
       "    <tr style=\"text-align: right;\">\n",
       "      <th></th>\n",
       "      <th>Salario</th>\n",
       "      <th>Edad</th>\n",
       "      <th>Genero</th>\n",
       "      <th>Educacion</th>\n",
       "    </tr>\n",
       "  </thead>\n",
       "  <tbody>\n",
       "    <tr>\n",
       "      <th>2</th>\n",
       "      <td>1300000.0</td>\n",
       "      <td>36.0</td>\n",
       "      <td>1.0</td>\n",
       "      <td>6.0</td>\n",
       "    </tr>\n",
       "    <tr>\n",
       "      <th>9</th>\n",
       "      <td>1200000.0</td>\n",
       "      <td>51.0</td>\n",
       "      <td>1.0</td>\n",
       "      <td>7.0</td>\n",
       "    </tr>\n",
       "    <tr>\n",
       "      <th>14</th>\n",
       "      <td>737717.0</td>\n",
       "      <td>45.0</td>\n",
       "      <td>1.0</td>\n",
       "      <td>4.0</td>\n",
       "    </tr>\n",
       "    <tr>\n",
       "      <th>16</th>\n",
       "      <td>700000.0</td>\n",
       "      <td>61.0</td>\n",
       "      <td>1.0</td>\n",
       "      <td>3.0</td>\n",
       "    </tr>\n",
       "    <tr>\n",
       "      <th>22</th>\n",
       "      <td>1700000.0</td>\n",
       "      <td>35.0</td>\n",
       "      <td>0.0</td>\n",
       "      <td>7.0</td>\n",
       "    </tr>\n",
       "  </tbody>\n",
       "</table>\n",
       "</div>"
      ],
      "text/plain": [
       "      Salario  Edad  Genero  Educacion\n",
       "2   1300000.0  36.0     1.0        6.0\n",
       "9   1200000.0  51.0     1.0        7.0\n",
       "14   737717.0  45.0     1.0        4.0\n",
       "16   700000.0  61.0     1.0        3.0\n",
       "22  1700000.0  35.0     0.0        7.0"
      ]
     },
     "execution_count": 6,
     "metadata": {},
     "output_type": "execute_result"
    }
   ],
   "source": [
    "df_2_3.head(5)"
   ]
  },
  {
   "cell_type": "markdown",
   "id": "3537dbed-9f34-4740-9971-9d4ee4943fb6",
   "metadata": {
    "tags": []
   },
   "source": [
    "# Estadisticas descriptivas"
   ]
  },
  {
   "cell_type": "markdown",
   "id": "e3e1996c-ef66-4acb-a28f-487cabfda8d8",
   "metadata": {
    "tags": []
   },
   "source": [
    "## General"
   ]
  },
  {
   "cell_type": "code",
   "execution_count": 33,
   "id": "af101cfa-9b71-4039-85d1-27681fb2f31b",
   "metadata": {
    "tags": []
   },
   "outputs": [
    {
     "data": {
      "text/html": [
       "<div>\n",
       "<style scoped>\n",
       "    .dataframe tbody tr th:only-of-type {\n",
       "        vertical-align: middle;\n",
       "    }\n",
       "\n",
       "    .dataframe tbody tr th {\n",
       "        vertical-align: top;\n",
       "    }\n",
       "\n",
       "    .dataframe thead th {\n",
       "        text-align: right;\n",
       "    }\n",
       "</style>\n",
       "<table border=\"1\" class=\"dataframe\">\n",
       "  <thead>\n",
       "    <tr style=\"text-align: right;\">\n",
       "      <th></th>\n",
       "      <th>Salario</th>\n",
       "      <th>Edad</th>\n",
       "      <th>Genero</th>\n",
       "      <th>Educacion</th>\n",
       "    </tr>\n",
       "  </thead>\n",
       "  <tbody>\n",
       "    <tr>\n",
       "      <th>count</th>\n",
       "      <td>9.891000e+03</td>\n",
       "      <td>9891.000000</td>\n",
       "      <td>9891.000000</td>\n",
       "      <td>9891.000000</td>\n",
       "    </tr>\n",
       "    <tr>\n",
       "      <th>mean</th>\n",
       "      <td>1.556278e+06</td>\n",
       "      <td>36.238904</td>\n",
       "      <td>0.502679</td>\n",
       "      <td>6.098170</td>\n",
       "    </tr>\n",
       "    <tr>\n",
       "      <th>std</th>\n",
       "      <td>2.148850e+06</td>\n",
       "      <td>12.024984</td>\n",
       "      <td>0.500018</td>\n",
       "      <td>1.106268</td>\n",
       "    </tr>\n",
       "    <tr>\n",
       "      <th>min</th>\n",
       "      <td>1.000000e+04</td>\n",
       "      <td>18.000000</td>\n",
       "      <td>0.000000</td>\n",
       "      <td>1.000000</td>\n",
       "    </tr>\n",
       "    <tr>\n",
       "      <th>25%</th>\n",
       "      <td>7.812420e+05</td>\n",
       "      <td>26.000000</td>\n",
       "      <td>0.000000</td>\n",
       "      <td>6.000000</td>\n",
       "    </tr>\n",
       "    <tr>\n",
       "      <th>50%</th>\n",
       "      <td>9.000000e+05</td>\n",
       "      <td>34.000000</td>\n",
       "      <td>1.000000</td>\n",
       "      <td>6.000000</td>\n",
       "    </tr>\n",
       "    <tr>\n",
       "      <th>75%</th>\n",
       "      <td>1.500000e+06</td>\n",
       "      <td>45.000000</td>\n",
       "      <td>1.000000</td>\n",
       "      <td>7.000000</td>\n",
       "    </tr>\n",
       "    <tr>\n",
       "      <th>max</th>\n",
       "      <td>3.400000e+07</td>\n",
       "      <td>86.000000</td>\n",
       "      <td>1.000000</td>\n",
       "      <td>7.000000</td>\n",
       "    </tr>\n",
       "  </tbody>\n",
       "</table>\n",
       "</div>"
      ],
      "text/plain": [
       "            Salario         Edad       Genero    Educacion\n",
       "count  9.891000e+03  9891.000000  9891.000000  9891.000000\n",
       "mean   1.556278e+06    36.238904     0.502679     6.098170\n",
       "std    2.148850e+06    12.024984     0.500018     1.106268\n",
       "min    1.000000e+04    18.000000     0.000000     1.000000\n",
       "25%    7.812420e+05    26.000000     0.000000     6.000000\n",
       "50%    9.000000e+05    34.000000     1.000000     6.000000\n",
       "75%    1.500000e+06    45.000000     1.000000     7.000000\n",
       "max    3.400000e+07    86.000000     1.000000     7.000000"
      ]
     },
     "execution_count": 33,
     "metadata": {},
     "output_type": "execute_result"
    }
   ],
   "source": [
    "descrip = df_2_3.describe()\n",
    "descrip"
   ]
  },
  {
   "cell_type": "markdown",
   "id": "39f9aa15-30a0-4b2f-b296-97840c82c945",
   "metadata": {
    "tags": []
   },
   "source": [
    "# Por edad"
   ]
  },
  {
   "cell_type": "code",
   "execution_count": 34,
   "id": "de0e17b1-7d35-4a5b-ac93-78cffc9c127c",
   "metadata": {
    "tags": []
   },
   "outputs": [],
   "source": [
    "rango=[]\n",
    "for i in df_2_3['Edad']:\n",
    "    for j in range(1,11):\n",
    "        izquierda = j*10\n",
    "        derecha = (j+1)*10\n",
    "        if izquierda < i <= derecha:\n",
    "            rango.append(str(j*10)+'-'+str((j+1)*10))        \n",
    "df_2_3['Rango Edad'] = rango    "
   ]
  },
  {
   "cell_type": "code",
   "execution_count": 9,
   "id": "f32f8196-2094-41f4-aa02-04cbdaa4fafb",
   "metadata": {
    "tags": []
   },
   "outputs": [],
   "source": [
    "df_edad = df_2_3.groupby('Rango Edad').mean()"
   ]
  },
  {
   "cell_type": "code",
   "execution_count": 10,
   "id": "4cfb4d11-162a-434a-a86c-5d6e52efa1a9",
   "metadata": {
    "tags": []
   },
   "outputs": [
    {
     "data": {
      "text/html": [
       "<div>\n",
       "<style scoped>\n",
       "    .dataframe tbody tr th:only-of-type {\n",
       "        vertical-align: middle;\n",
       "    }\n",
       "\n",
       "    .dataframe tbody tr th {\n",
       "        vertical-align: top;\n",
       "    }\n",
       "\n",
       "    .dataframe thead th {\n",
       "        text-align: right;\n",
       "    }\n",
       "</style>\n",
       "<table border=\"1\" class=\"dataframe\">\n",
       "  <thead>\n",
       "    <tr style=\"text-align: right;\">\n",
       "      <th></th>\n",
       "      <th>Salario</th>\n",
       "      <th>Edad</th>\n",
       "      <th>Genero</th>\n",
       "      <th>Educacion</th>\n",
       "    </tr>\n",
       "    <tr>\n",
       "      <th>Rango Edad</th>\n",
       "      <th></th>\n",
       "      <th></th>\n",
       "      <th></th>\n",
       "      <th></th>\n",
       "    </tr>\n",
       "  </thead>\n",
       "  <tbody>\n",
       "    <tr>\n",
       "      <th>10-20</th>\n",
       "      <td>7.167348e+05</td>\n",
       "      <td>19.265421</td>\n",
       "      <td>0.517757</td>\n",
       "      <td>6.271028</td>\n",
       "    </tr>\n",
       "    <tr>\n",
       "      <th>20-30</th>\n",
       "      <td>1.205153e+06</td>\n",
       "      <td>25.641414</td>\n",
       "      <td>0.528223</td>\n",
       "      <td>6.407308</td>\n",
       "    </tr>\n",
       "    <tr>\n",
       "      <th>30-40</th>\n",
       "      <td>1.743733e+06</td>\n",
       "      <td>35.257334</td>\n",
       "      <td>0.496101</td>\n",
       "      <td>6.216487</td>\n",
       "    </tr>\n",
       "    <tr>\n",
       "      <th>40-50</th>\n",
       "      <td>1.904862e+06</td>\n",
       "      <td>45.255462</td>\n",
       "      <td>0.463866</td>\n",
       "      <td>5.842577</td>\n",
       "    </tr>\n",
       "    <tr>\n",
       "      <th>50-60</th>\n",
       "      <td>1.891624e+06</td>\n",
       "      <td>54.838655</td>\n",
       "      <td>0.489076</td>\n",
       "      <td>5.554622</td>\n",
       "    </tr>\n",
       "    <tr>\n",
       "      <th>60-70</th>\n",
       "      <td>1.946478e+06</td>\n",
       "      <td>63.575862</td>\n",
       "      <td>0.531034</td>\n",
       "      <td>5.113793</td>\n",
       "    </tr>\n",
       "    <tr>\n",
       "      <th>70-80</th>\n",
       "      <td>1.375452e+06</td>\n",
       "      <td>73.607143</td>\n",
       "      <td>0.535714</td>\n",
       "      <td>4.214286</td>\n",
       "    </tr>\n",
       "    <tr>\n",
       "      <th>80-90</th>\n",
       "      <td>7.678105e+05</td>\n",
       "      <td>84.500000</td>\n",
       "      <td>0.500000</td>\n",
       "      <td>3.500000</td>\n",
       "    </tr>\n",
       "  </tbody>\n",
       "</table>\n",
       "</div>"
      ],
      "text/plain": [
       "                 Salario       Edad    Genero  Educacion\n",
       "Rango Edad                                              \n",
       "10-20       7.167348e+05  19.265421  0.517757   6.271028\n",
       "20-30       1.205153e+06  25.641414  0.528223   6.407308\n",
       "30-40       1.743733e+06  35.257334  0.496101   6.216487\n",
       "40-50       1.904862e+06  45.255462  0.463866   5.842577\n",
       "50-60       1.891624e+06  54.838655  0.489076   5.554622\n",
       "60-70       1.946478e+06  63.575862  0.531034   5.113793\n",
       "70-80       1.375452e+06  73.607143  0.535714   4.214286\n",
       "80-90       7.678105e+05  84.500000  0.500000   3.500000"
      ]
     },
     "execution_count": 10,
     "metadata": {},
     "output_type": "execute_result"
    }
   ],
   "source": [
    "df_edad"
   ]
  },
  {
   "cell_type": "markdown",
   "id": "d6470844-a0ea-445d-be6b-f6ffd6d2d6fd",
   "metadata": {
    "tags": []
   },
   "source": [
    "# Por genero"
   ]
  },
  {
   "cell_type": "code",
   "execution_count": 11,
   "id": "b4a16bd7-0508-4e3b-8d0c-4e44700b0997",
   "metadata": {
    "tags": []
   },
   "outputs": [
    {
     "data": {
      "text/html": [
       "<div>\n",
       "<style scoped>\n",
       "    .dataframe tbody tr th:only-of-type {\n",
       "        vertical-align: middle;\n",
       "    }\n",
       "\n",
       "    .dataframe tbody tr th {\n",
       "        vertical-align: top;\n",
       "    }\n",
       "\n",
       "    .dataframe thead th {\n",
       "        text-align: right;\n",
       "    }\n",
       "</style>\n",
       "<table border=\"1\" class=\"dataframe\">\n",
       "  <thead>\n",
       "    <tr style=\"text-align: right;\">\n",
       "      <th></th>\n",
       "      <th>Salario</th>\n",
       "      <th>Edad</th>\n",
       "      <th>Educacion</th>\n",
       "    </tr>\n",
       "    <tr>\n",
       "      <th>Genero</th>\n",
       "      <th></th>\n",
       "      <th></th>\n",
       "      <th></th>\n",
       "    </tr>\n",
       "  </thead>\n",
       "  <tbody>\n",
       "    <tr>\n",
       "      <th>Femenino</th>\n",
       "      <td>1.472704e+06</td>\n",
       "      <td>36.577353</td>\n",
       "      <td>6.186623</td>\n",
       "    </tr>\n",
       "    <tr>\n",
       "      <th>Masculino</th>\n",
       "      <td>1.638961e+06</td>\n",
       "      <td>35.904063</td>\n",
       "      <td>6.010660</td>\n",
       "    </tr>\n",
       "  </tbody>\n",
       "</table>\n",
       "</div>"
      ],
      "text/plain": [
       "                Salario       Edad  Educacion\n",
       "Genero                                       \n",
       "Femenino   1.472704e+06  36.577353   6.186623\n",
       "Masculino  1.638961e+06  35.904063   6.010660"
      ]
     },
     "execution_count": 11,
     "metadata": {},
     "output_type": "execute_result"
    }
   ],
   "source": [
    "df_g = df_2_3.iloc[:,:4].groupby('Genero').mean().rename(index={0:'Femenino',1:'Masculino'})\n",
    "df_g"
   ]
  },
  {
   "cell_type": "code",
   "execution_count": 12,
   "id": "24681209-e75c-4782-ad60-f1095eacd786",
   "metadata": {
    "tags": []
   },
   "outputs": [
    {
     "data": {
      "text/html": [
       "<div>\n",
       "<style scoped>\n",
       "    .dataframe tbody tr th:only-of-type {\n",
       "        vertical-align: middle;\n",
       "    }\n",
       "\n",
       "    .dataframe tbody tr th {\n",
       "        vertical-align: top;\n",
       "    }\n",
       "\n",
       "    .dataframe thead th {\n",
       "        text-align: right;\n",
       "    }\n",
       "</style>\n",
       "<table border=\"1\" class=\"dataframe\">\n",
       "  <thead>\n",
       "    <tr style=\"text-align: right;\">\n",
       "      <th></th>\n",
       "      <th>Salario</th>\n",
       "      <th>Edad</th>\n",
       "      <th>Genero</th>\n",
       "    </tr>\n",
       "    <tr>\n",
       "      <th>Educacion</th>\n",
       "      <th></th>\n",
       "      <th></th>\n",
       "      <th></th>\n",
       "    </tr>\n",
       "  </thead>\n",
       "  <tbody>\n",
       "    <tr>\n",
       "      <th>1.0</th>\n",
       "      <td>6.389703e+05</td>\n",
       "      <td>49.044444</td>\n",
       "      <td>0.400000</td>\n",
       "    </tr>\n",
       "    <tr>\n",
       "      <th>3.0</th>\n",
       "      <td>8.077298e+05</td>\n",
       "      <td>47.827160</td>\n",
       "      <td>0.592593</td>\n",
       "    </tr>\n",
       "    <tr>\n",
       "      <th>4.0</th>\n",
       "      <td>8.487628e+05</td>\n",
       "      <td>46.867153</td>\n",
       "      <td>0.543066</td>\n",
       "    </tr>\n",
       "    <tr>\n",
       "      <th>5.0</th>\n",
       "      <td>8.265039e+05</td>\n",
       "      <td>40.248936</td>\n",
       "      <td>0.576596</td>\n",
       "    </tr>\n",
       "    <tr>\n",
       "      <th>6.0</th>\n",
       "      <td>9.342000e+05</td>\n",
       "      <td>34.258848</td>\n",
       "      <td>0.539047</td>\n",
       "    </tr>\n",
       "    <tr>\n",
       "      <th>7.0</th>\n",
       "      <td>2.356039e+06</td>\n",
       "      <td>34.315989</td>\n",
       "      <td>0.447745</td>\n",
       "    </tr>\n",
       "  </tbody>\n",
       "</table>\n",
       "</div>"
      ],
      "text/plain": [
       "                Salario       Edad    Genero\n",
       "Educacion                                   \n",
       "1.0        6.389703e+05  49.044444  0.400000\n",
       "3.0        8.077298e+05  47.827160  0.592593\n",
       "4.0        8.487628e+05  46.867153  0.543066\n",
       "5.0        8.265039e+05  40.248936  0.576596\n",
       "6.0        9.342000e+05  34.258848  0.539047\n",
       "7.0        2.356039e+06  34.315989  0.447745"
      ]
     },
     "execution_count": 12,
     "metadata": {},
     "output_type": "execute_result"
    }
   ],
   "source": [
    "# POr años de educacion\n",
    "df_ed = df_2_3.iloc[:,:4].groupby('Educacion').mean()\n",
    "df_ed"
   ]
  },
  {
   "cell_type": "markdown",
   "id": "03b64c4f-6f43-4df7-aa20-c09e39b1ac38",
   "metadata": {
    "tags": []
   },
   "source": [
    "# Valores Máxuimos"
   ]
  },
  {
   "cell_type": "code",
   "execution_count": 13,
   "id": "a6967d11-a9bb-42a4-b34a-2f13b690ef89",
   "metadata": {
    "tags": []
   },
   "outputs": [],
   "source": [
    "def max_min(lista_columnas_original, data_orginal):\n",
    "    '''Esta funcion crea un DataFrame con los maximos y minimos de cada columna\n",
    "    los argumentos son las columnas que quieren sacar los minimos, la base de datos original\n",
    "    y el nombre de la nueva data set con las estadisticas'''\n",
    "    nueva_data_set= pd.DataFrame()\n",
    "    columnas_max_min = lista_columnas_original\n",
    "    for i in data_orginal[columnas_max_min].columns:\n",
    "        nueva_data_set=pd.concat([nueva_data_set,data_orginal[data_orginal[i]==data_orginal[i].max()],data_orginal[data_orginal[i]==data_orginal[i].min()]])\n",
    "    tipo = []\n",
    "    for i in nueva_data_set[columnas_max_min].columns:\n",
    "        for j in nueva_data_set[i]:\n",
    "            if j == data_orginal[i].max():\n",
    "                tipo.append('Máx '+i)\n",
    "            elif j == data_orginal[i].min():\n",
    "                tipo.append('Min '+i)\n",
    "    nueva_data_set['tipo'] = tipo\n",
    "                \n",
    "   \n",
    "    return nueva_data_set"
   ]
  },
  {
   "cell_type": "code",
   "execution_count": 14,
   "id": "203dac70-775f-4370-a444-579848905ca6",
   "metadata": {
    "tags": []
   },
   "outputs": [],
   "source": [
    "max_mint = max_min(['Salario','Edad',],df_2_3).iloc[:5,:]"
   ]
  },
  {
   "cell_type": "code",
   "execution_count": 15,
   "id": "9892939a-2d42-461c-8e92-48e06cce7f5c",
   "metadata": {
    "tags": []
   },
   "outputs": [
    {
     "data": {
      "text/html": [
       "<div>\n",
       "<style scoped>\n",
       "    .dataframe tbody tr th:only-of-type {\n",
       "        vertical-align: middle;\n",
       "    }\n",
       "\n",
       "    .dataframe tbody tr th {\n",
       "        vertical-align: top;\n",
       "    }\n",
       "\n",
       "    .dataframe thead th {\n",
       "        text-align: right;\n",
       "    }\n",
       "</style>\n",
       "<table border=\"1\" class=\"dataframe\">\n",
       "  <thead>\n",
       "    <tr style=\"text-align: right;\">\n",
       "      <th></th>\n",
       "      <th>Salario</th>\n",
       "      <th>Edad</th>\n",
       "      <th>Genero</th>\n",
       "      <th>Educacion</th>\n",
       "      <th>Rango Edad</th>\n",
       "      <th>tipo</th>\n",
       "    </tr>\n",
       "  </thead>\n",
       "  <tbody>\n",
       "    <tr>\n",
       "      <th>21229</th>\n",
       "      <td>34000000.0</td>\n",
       "      <td>48.0</td>\n",
       "      <td>1.0</td>\n",
       "      <td>7.0</td>\n",
       "      <td>40-50</td>\n",
       "      <td>Máx Salario</td>\n",
       "    </tr>\n",
       "    <tr>\n",
       "      <th>13474</th>\n",
       "      <td>10000.0</td>\n",
       "      <td>22.0</td>\n",
       "      <td>0.0</td>\n",
       "      <td>7.0</td>\n",
       "      <td>20-30</td>\n",
       "      <td>Min Salario</td>\n",
       "    </tr>\n",
       "    <tr>\n",
       "      <th>9344</th>\n",
       "      <td>800000.0</td>\n",
       "      <td>86.0</td>\n",
       "      <td>1.0</td>\n",
       "      <td>6.0</td>\n",
       "      <td>80-90</td>\n",
       "      <td>Máx Edad</td>\n",
       "    </tr>\n",
       "    <tr>\n",
       "      <th>17586</th>\n",
       "      <td>600000.0</td>\n",
       "      <td>86.0</td>\n",
       "      <td>0.0</td>\n",
       "      <td>4.0</td>\n",
       "      <td>80-90</td>\n",
       "      <td>Máx Edad</td>\n",
       "    </tr>\n",
       "    <tr>\n",
       "      <th>189</th>\n",
       "      <td>950000.0</td>\n",
       "      <td>18.0</td>\n",
       "      <td>0.0</td>\n",
       "      <td>7.0</td>\n",
       "      <td>10-20</td>\n",
       "      <td>Min Edad</td>\n",
       "    </tr>\n",
       "  </tbody>\n",
       "</table>\n",
       "</div>"
      ],
      "text/plain": [
       "          Salario  Edad  Genero  Educacion Rango Edad         tipo\n",
       "21229  34000000.0  48.0     1.0        7.0      40-50  Máx Salario\n",
       "13474     10000.0  22.0     0.0        7.0      20-30  Min Salario\n",
       "9344     800000.0  86.0     1.0        6.0      80-90     Máx Edad\n",
       "17586    600000.0  86.0     0.0        4.0      80-90     Máx Edad\n",
       "189      950000.0  18.0     0.0        7.0      10-20     Min Edad"
      ]
     },
     "execution_count": 15,
     "metadata": {},
     "output_type": "execute_result"
    }
   ],
   "source": [
    "max_mint"
   ]
  },
  {
   "cell_type": "markdown",
   "id": "8aad2a40-8da5-4689-8258-f6b86c059731",
   "metadata": {
    "tags": []
   },
   "source": [
    "# Exportar tablas"
   ]
  },
  {
   "cell_type": "code",
   "execution_count": 15,
   "id": "e945b8c5-8b73-4505-b8f0-f52028fa1193",
   "metadata": {
    "tags": []
   },
   "outputs": [],
   "source": [
    "with pd.ExcelWriter('output.xlsx') as excel_writer:\n",
    "    descrip.to_excel(excel_writer, sheet_name='Sheet1', index=True)\n",
    "    df_edad.to_excel(excel_writer, sheet_name='Sheet2', index=True)\n",
    "    df_g.to_excel(excel_writer, sheet_name='Sheet3', index=True)\n",
    "    max_mint.to_excel(excel_writer, sheet_name='Sheet4', index=True)"
   ]
  },
  {
   "cell_type": "markdown",
   "id": "d23dda19-e6e5-4cce-9b04-a0346a64501c",
   "metadata": {
    "tags": []
   },
   "source": [
    "# EDA"
   ]
  },
  {
   "cell_type": "code",
   "execution_count": 16,
   "id": "3649d9bd-bc38-4a7d-ac45-8036d34670c6",
   "metadata": {
    "tags": []
   },
   "outputs": [],
   "source": [
    "import seaborn as sns\n",
    "import matplotlib.pyplot as plt"
   ]
  },
  {
   "cell_type": "code",
   "execution_count": 17,
   "id": "75c901e1-9851-4c57-9602-2df34577ccbf",
   "metadata": {
    "tags": []
   },
   "outputs": [
    {
     "data": {
      "text/plain": [
       "<matplotlib.legend.Legend at 0x2240eb9b110>"
      ]
     },
     "execution_count": 17,
     "metadata": {},
     "output_type": "execute_result"
    },
    {
     "data": {
      "image/png": "[encoded data removed]",
      "text/plain": [
       "<Figure size 1000x800 with 1 Axes>"
      ]
     },
     "metadata": {},
     "output_type": "display_data"
    }
   ],
   "source": [
    "fig = plt.figure(figsize=(10,8))\n",
    "sns.boxplot(data=df_2_3,y = df_2_3['Salario'], x=df_2_3['Rango Edad'], hue = df_2_3['Genero'].replace({0:'Femenino',1:'Masculino'} ))\n",
    "plt.title('Boxplots Salario por rango de Edad y Genero')\n",
    "plt.legend()"
   ]
  },
  {
   "cell_type": "markdown",
   "id": "d2ccb39a-0d3a-42b1-bc29-77bac1a47e70",
   "metadata": {
    "tags": []
   },
   "source": [
    "# Regresiones de salario-educacion-edad"
   ]
  },
  {
   "cell_type": "code",
   "execution_count": 35,
   "id": "f358a8d8-2bbd-4667-b21e-3370559b6dfb",
   "metadata": {
    "tags": []
   },
   "outputs": [],
   "source": [
    "df_2_3['Edad**2'] = df_2_3['Edad']**2\n",
    "df_2_3['Edad**3'] = df_2_3['Edad']**3\n",
    "df_2_3['Educacion**3'] = df_2_3['Educacion']**3\n",
    "df_2_3['Educacion**2'] = df_2_3['Educacion']**2\n",
    "df_2_3['Educacion*Edad'] = df_2_3['Educacion']*df_2_3['Edad']\n",
    "df_2_3['Educacion2*Edad2'] = df_2_3['Educacion**2']*df_2_3['Edad**2']"
   ]
  },
  {
   "cell_type": "code",
   "execution_count": null,
   "id": "f928f5e1-b44c-4548-9085-acb091b097df",
   "metadata": {
    "tags": []
   },
   "outputs": [],
   "source": []
  },
  {
   "cell_type": "code",
   "execution_count": 36,
   "id": "7cfcede8-c162-4e15-9a32-470c1b184e59",
   "metadata": {
    "tags": []
   },
   "outputs": [],
   "source": [
    "# se convierte el salario al logaritmo del salario\n",
    "df_2_3['Salario'] = np.log(df_2_3['Salario']).rename('lnSalario')"
   ]
  },
  {
   "cell_type": "code",
   "execution_count": 37,
   "id": "dbfd80dc-ce16-4985-8f88-daf08118db0b",
   "metadata": {
    "scrolled": true,
    "tags": []
   },
   "outputs": [
    {
     "data": {
      "text/html": [
       "<div>\n",
       "<style scoped>\n",
       "    .dataframe tbody tr th:only-of-type {\n",
       "        vertical-align: middle;\n",
       "    }\n",
       "\n",
       "    .dataframe tbody tr th {\n",
       "        vertical-align: top;\n",
       "    }\n",
       "\n",
       "    .dataframe thead th {\n",
       "        text-align: right;\n",
       "    }\n",
       "</style>\n",
       "<table border=\"1\" class=\"dataframe\">\n",
       "  <thead>\n",
       "    <tr style=\"text-align: right;\">\n",
       "      <th></th>\n",
       "      <th>Salario</th>\n",
       "      <th>Edad</th>\n",
       "      <th>Genero</th>\n",
       "      <th>Educacion</th>\n",
       "      <th>Rango Edad</th>\n",
       "      <th>Edad**2</th>\n",
       "      <th>Edad**3</th>\n",
       "      <th>Educacion**3</th>\n",
       "      <th>Educacion**2</th>\n",
       "      <th>Educacion*Edad</th>\n",
       "      <th>Educacion2*Edad2</th>\n",
       "    </tr>\n",
       "  </thead>\n",
       "  <tbody>\n",
       "    <tr>\n",
       "      <th>2</th>\n",
       "      <td>14.077875</td>\n",
       "      <td>36.0</td>\n",
       "      <td>1.0</td>\n",
       "      <td>6.0</td>\n",
       "      <td>30-40</td>\n",
       "      <td>1296.0</td>\n",
       "      <td>46656.0</td>\n",
       "      <td>216.0</td>\n",
       "      <td>36.0</td>\n",
       "      <td>216.0</td>\n",
       "      <td>46656.0</td>\n",
       "    </tr>\n",
       "    <tr>\n",
       "      <th>9</th>\n",
       "      <td>13.997832</td>\n",
       "      <td>51.0</td>\n",
       "      <td>1.0</td>\n",
       "      <td>7.0</td>\n",
       "      <td>50-60</td>\n",
       "      <td>2601.0</td>\n",
       "      <td>132651.0</td>\n",
       "      <td>343.0</td>\n",
       "      <td>49.0</td>\n",
       "      <td>357.0</td>\n",
       "      <td>127449.0</td>\n",
       "    </tr>\n",
       "    <tr>\n",
       "      <th>14</th>\n",
       "      <td>13.511316</td>\n",
       "      <td>45.0</td>\n",
       "      <td>1.0</td>\n",
       "      <td>4.0</td>\n",
       "      <td>40-50</td>\n",
       "      <td>2025.0</td>\n",
       "      <td>91125.0</td>\n",
       "      <td>64.0</td>\n",
       "      <td>16.0</td>\n",
       "      <td>180.0</td>\n",
       "      <td>32400.0</td>\n",
       "    </tr>\n",
       "    <tr>\n",
       "      <th>16</th>\n",
       "      <td>13.458836</td>\n",
       "      <td>61.0</td>\n",
       "      <td>1.0</td>\n",
       "      <td>3.0</td>\n",
       "      <td>60-70</td>\n",
       "      <td>3721.0</td>\n",
       "      <td>226981.0</td>\n",
       "      <td>27.0</td>\n",
       "      <td>9.0</td>\n",
       "      <td>183.0</td>\n",
       "      <td>33489.0</td>\n",
       "    </tr>\n",
       "    <tr>\n",
       "      <th>22</th>\n",
       "      <td>14.346139</td>\n",
       "      <td>35.0</td>\n",
       "      <td>0.0</td>\n",
       "      <td>7.0</td>\n",
       "      <td>30-40</td>\n",
       "      <td>1225.0</td>\n",
       "      <td>42875.0</td>\n",
       "      <td>343.0</td>\n",
       "      <td>49.0</td>\n",
       "      <td>245.0</td>\n",
       "      <td>60025.0</td>\n",
       "    </tr>\n",
       "    <tr>\n",
       "      <th>...</th>\n",
       "      <td>...</td>\n",
       "      <td>...</td>\n",
       "      <td>...</td>\n",
       "      <td>...</td>\n",
       "      <td>...</td>\n",
       "      <td>...</td>\n",
       "      <td>...</td>\n",
       "      <td>...</td>\n",
       "      <td>...</td>\n",
       "      <td>...</td>\n",
       "      <td>...</td>\n",
       "    </tr>\n",
       "    <tr>\n",
       "      <th>32174</th>\n",
       "      <td>13.852806</td>\n",
       "      <td>24.0</td>\n",
       "      <td>1.0</td>\n",
       "      <td>7.0</td>\n",
       "      <td>20-30</td>\n",
       "      <td>576.0</td>\n",
       "      <td>13824.0</td>\n",
       "      <td>343.0</td>\n",
       "      <td>49.0</td>\n",
       "      <td>168.0</td>\n",
       "      <td>28224.0</td>\n",
       "    </tr>\n",
       "    <tr>\n",
       "      <th>32176</th>\n",
       "      <td>13.831384</td>\n",
       "      <td>50.0</td>\n",
       "      <td>0.0</td>\n",
       "      <td>6.0</td>\n",
       "      <td>40-50</td>\n",
       "      <td>2500.0</td>\n",
       "      <td>125000.0</td>\n",
       "      <td>216.0</td>\n",
       "      <td>36.0</td>\n",
       "      <td>300.0</td>\n",
       "      <td>90000.0</td>\n",
       "    </tr>\n",
       "    <tr>\n",
       "      <th>32181</th>\n",
       "      <td>13.568640</td>\n",
       "      <td>27.0</td>\n",
       "      <td>1.0</td>\n",
       "      <td>6.0</td>\n",
       "      <td>20-30</td>\n",
       "      <td>729.0</td>\n",
       "      <td>19683.0</td>\n",
       "      <td>216.0</td>\n",
       "      <td>36.0</td>\n",
       "      <td>162.0</td>\n",
       "      <td>26244.0</td>\n",
       "    </tr>\n",
       "    <tr>\n",
       "      <th>32182</th>\n",
       "      <td>13.710150</td>\n",
       "      <td>24.0</td>\n",
       "      <td>0.0</td>\n",
       "      <td>6.0</td>\n",
       "      <td>20-30</td>\n",
       "      <td>576.0</td>\n",
       "      <td>13824.0</td>\n",
       "      <td>216.0</td>\n",
       "      <td>36.0</td>\n",
       "      <td>144.0</td>\n",
       "      <td>20736.0</td>\n",
       "    </tr>\n",
       "    <tr>\n",
       "      <th>32183</th>\n",
       "      <td>15.656060</td>\n",
       "      <td>36.0</td>\n",
       "      <td>0.0</td>\n",
       "      <td>7.0</td>\n",
       "      <td>30-40</td>\n",
       "      <td>1296.0</td>\n",
       "      <td>46656.0</td>\n",
       "      <td>343.0</td>\n",
       "      <td>49.0</td>\n",
       "      <td>252.0</td>\n",
       "      <td>63504.0</td>\n",
       "    </tr>\n",
       "  </tbody>\n",
       "</table>\n",
       "<p>9891 rows × 11 columns</p>\n",
       "</div>"
      ],
      "text/plain": [
       "         Salario  Edad  Genero  Educacion Rango Edad  Edad**2   Edad**3  \\\n",
       "2      14.077875  36.0     1.0        6.0      30-40   1296.0   46656.0   \n",
       "9      13.997832  51.0     1.0        7.0      50-60   2601.0  132651.0   \n",
       "14     13.511316  45.0     1.0        4.0      40-50   2025.0   91125.0   \n",
       "16     13.458836  61.0     1.0        3.0      60-70   3721.0  226981.0   \n",
       "22     14.346139  35.0     0.0        7.0      30-40   1225.0   42875.0   \n",
       "...          ...   ...     ...        ...        ...      ...       ...   \n",
       "32174  13.852806  24.0     1.0        7.0      20-30    576.0   13824.0   \n",
       "32176  13.831384  50.0     0.0        6.0      40-50   2500.0  125000.0   \n",
       "32181  13.568640  27.0     1.0        6.0      20-30    729.0   19683.0   \n",
       "32182  13.710150  24.0     0.0        6.0      20-30    576.0   13824.0   \n",
       "32183  15.656060  36.0     0.0        7.0      30-40   1296.0   46656.0   \n",
       "\n",
       "       Educacion**3  Educacion**2  Educacion*Edad  Educacion2*Edad2  \n",
       "2             216.0          36.0           216.0           46656.0  \n",
       "9             343.0          49.0           357.0          127449.0  \n",
       "14             64.0          16.0           180.0           32400.0  \n",
       "16             27.0           9.0           183.0           33489.0  \n",
       "22            343.0          49.0           245.0           60025.0  \n",
       "...             ...           ...             ...               ...  \n",
       "32174         343.0          49.0           168.0           28224.0  \n",
       "32176         216.0          36.0           300.0           90000.0  \n",
       "32181         216.0          36.0           162.0           26244.0  \n",
       "32182         216.0          36.0           144.0           20736.0  \n",
       "32183         343.0          49.0           252.0           63504.0  \n",
       "\n",
       "[9891 rows x 11 columns]"
      ]
     },
     "execution_count": 37,
     "metadata": {},
     "output_type": "execute_result"
    }
   ],
   "source": [
    "df_2_3"
   ]
  },
  {
   "cell_type": "code",
   "execution_count": 58,
   "id": "4d83993e",
   "metadata": {},
   "outputs": [],
   "source": [
    "from sklearn.linear_model import LinearRegression # para la regresion lineal\n",
    "from sklearn.model_selection import train_test_split # para la division de la base\n",
    "from sklearn.metrics import mean_squared_error, r2_score\n",
    "from sklearn.preprocessing import StandardScaler"
   ]
  },
  {
   "cell_type": "code",
   "execution_count": null,
   "id": "f12176ad-48eb-480c-a378-836e22ef8810",
   "metadata": {},
   "outputs": [],
   "source": [
    "from sklearn.preprocessing import StandardScaler\n"
   ]
  },
  {
   "cell_type": "code",
   "execution_count": 68,
   "id": "71888948-bdde-42ea-acf0-4e3bf3fa7b8c",
   "metadata": {
    "tags": []
   },
   "outputs": [],
   "source": [
    "def regresion_lineal(X,y):\n",
    "    # division de la base \n",
    "    X_train, X_test, y_train, y_test = train_test_split(X, y, test_size=0.33, random_state=42)\n",
    "    #normalizacion de X\n",
    "    sc = StandardScaler()\n",
    "    X_train = sc.fit_transform(X_train)\n",
    "    X_test = sc.transform(X_test)\n",
    "    lr = LinearRegression()\n",
    "    lr.fit(X_train,y_train)\n",
    "    y_hat = lr.predict(X_test)\n",
    "    # metricas\n",
    "    mse = mean_squared_error(y_test,y_hat)\n",
    "    r2 = r2_score(y_test,y_hat)\n",
    "    return mse,r2"
   ]
  },
  {
   "cell_type": "markdown",
   "id": "288be9b7-4b0d-40a5-adb9-c12b098d7c70",
   "metadata": {
    "tags": []
   },
   "source": [
    "# primer modelo: Salario = Edad + Genero + Educacion"
   ]
  },
  {
   "cell_type": "code",
   "execution_count": 69,
   "id": "dbafe062-d394-4530-8c47-8c72bddda57e",
   "metadata": {
    "tags": []
   },
   "outputs": [],
   "source": [
    "y = df_2_3.iloc[:,0].values\n",
    "X = df_2_3.iloc[:,1:4].values"
   ]
  },
  {
   "cell_type": "code",
   "execution_count": 70,
   "id": "7ce93dbe-0765-4d63-b207-6475e7d66b53",
   "metadata": {
    "tags": []
   },
   "outputs": [
    {
     "name": "stdout",
     "output_type": "stream",
     "text": [
      "(0.44670602361907497, 0.2191683586270181)\n"
     ]
    }
   ],
   "source": [
    "print(regresion_lineal(X,y))\n",
    "MSE.append(regresion_lineal(X,y))"
   ]
  },
  {
   "cell_type": "markdown",
   "id": "e9d9bf8b-3c95-4eed-8b5b-330a426f9e34",
   "metadata": {
    "tags": []
   },
   "source": [
    " # Segundo modelo: Salario = Edad + Genero + Educacion + Edad*Educacion "
   ]
  },
  {
   "cell_type": "code",
   "execution_count": 71,
   "id": "dc0d915f-ee0f-4a62-abe5-66eda09106b4",
   "metadata": {
    "tags": []
   },
   "outputs": [],
   "source": [
    "y = df_2_3.iloc[:,0].values\n",
    "columnas = ['Edad','Genero','Educacion','Educacion*Edad']\n",
    "X = df_2_3[columnas].values\n"
   ]
  },
  {
   "cell_type": "code",
   "execution_count": 72,
   "id": "e6d6d33c-8957-45fc-bc4e-ed095abb5f05",
   "metadata": {
    "tags": []
   },
   "outputs": [
    {
     "name": "stdout",
     "output_type": "stream",
     "text": [
      "(0.44267877091698, 0.2262079017970967)\n"
     ]
    }
   ],
   "source": [
    "print(regresion_lineal(X,y))\n",
    "MSE.append(regresion_lineal(X,y))"
   ]
  },
  {
   "cell_type": "markdown",
   "id": "8df367fe-e5f8-4751-8e3a-9ec486830c6e",
   "metadata": {
    "tags": []
   },
   "source": [
    " # Tercer modelo: Salario = Edad + Genero + Educacion + Edad*Educacion + Edad**2 + Educacion**2"
   ]
  },
  {
   "cell_type": "code",
   "execution_count": 65,
   "id": "852f2e0c-0f50-472a-9b18-c413741be6bf",
   "metadata": {
    "tags": []
   },
   "outputs": [],
   "source": [
    "y = df_2_3.iloc[:,0].values\n",
    "columnas = ['Edad','Genero','Educacion','Educacion*Edad','Educacion**2','Edad**2']\n",
    "X = df_2_3[columnas].values"
   ]
  },
  {
   "cell_type": "code",
   "execution_count": 67,
   "id": "a1115eaf-d061-4ac9-bb4c-721c32d3a196",
   "metadata": {
    "tags": []
   },
   "outputs": [
    {
     "name": "stdout",
     "output_type": "stream",
     "text": [
      "(0.39909215901660056, 0.30239627605793384)\n"
     ]
    }
   ],
   "source": [
    "print(regresion_lineal(X,y))\n",
    "MSE.append(regresion_lineal(X,y))"
   ]
  },
  {
   "cell_type": "markdown",
   "id": "95356ca7-312c-469d-ba7c-60ebe24ceeeb",
   "metadata": {
    "tags": []
   },
   "source": [
    " # Cuarto modelo: Salario = Edad + Genero + Educacion + Edad*Educacion + Edad**2 + Educacion**2 + Edad**2*Educacion**2"
   ]
  },
  {
   "cell_type": "code",
   "execution_count": 45,
   "id": "94bc5d1e-b5ed-4dd8-8592-e9e5efa01e3b",
   "metadata": {
    "tags": []
   },
   "outputs": [],
   "source": [
    "y = df_2_3.iloc[:,0].values\n",
    "columnas = ['Edad','Genero','Educacion','Educacion*Edad','Educacion**2','Edad**2','Educacion2*Edad2']\n",
    "X = df_2_3[columnas].values"
   ]
  },
  {
   "cell_type": "code",
   "execution_count": 46,
   "id": "f3ccdd39-0aae-4d38-b57c-37c1b41b7534",
   "metadata": {
    "tags": []
   },
   "outputs": [
    {
     "name": "stdout",
     "output_type": "stream",
     "text": [
      "(0.39828589476649523, 0.3038056070373767)\n"
     ]
    }
   ],
   "source": [
    "print(regresion_lineal(X,y))\n",
    "MSE.append(regresion_lineal(X,y))"
   ]
  },
  {
   "cell_type": "markdown",
   "id": "bf55bae6-f962-45e9-9b47-63256d2f6067",
   "metadata": {
    "tags": []
   },
   "source": [
    " # Quinto modelo: Salario = Edad + Genero + Educacion + Edad*Educacion + Edad**3 + Educacion**3 "
   ]
  },
  {
   "cell_type": "code",
   "execution_count": 47,
   "id": "b00b087a-8e59-4290-82dd-cf00f67b3c5c",
   "metadata": {
    "tags": []
   },
   "outputs": [],
   "source": [
    "y = df_2_3.iloc[:,0].values\n",
    "columnas = ['Edad','Genero','Educacion','Educacion*Edad','Educacion**3','Edad**3']\n",
    "X = df_2_3[columnas].values"
   ]
  },
  {
   "cell_type": "code",
   "execution_count": 48,
   "id": "1ed052ef-3b71-4ed8-bd9d-6df8cdab1efd",
   "metadata": {
    "tags": []
   },
   "outputs": [
    {
     "name": "stdout",
     "output_type": "stream",
     "text": [
      "(0.39550689443960113, 0.30866323436249)\n"
     ]
    }
   ],
   "source": [
    "print(regresion_lineal(X,y))\n",
    "MSE.append(regresion_lineal(X,y))"
   ]
  },
  {
   "cell_type": "code",
   "execution_count": 33,
   "id": "e1d24da7-89bc-4868-a276-8a38b55ba81f",
   "metadata": {
    "tags": []
   },
   "outputs": [
    {
     "name": "stdout",
     "output_type": "stream",
     "text": [
      "Los ultimos dos modelos fueron los que mejor desempeño tuvieron\n"
     ]
    }
   ],
   "source": [
    "print('Los ultimos dos modelos fueron los que mejor desempeño tuvieron')"
   ]
  },
  {
   "cell_type": "markdown",
   "id": "99b9535c-fc48-498c-8db7-d5c893226a36",
   "metadata": {
    "tags": []
   },
   "source": [
    "# LOOCV"
   ]
  },
  {
   "cell_type": "code",
   "execution_count": 34,
   "id": "91cf3f6b-77a8-4a05-a44c-65fc4d6941c9",
   "metadata": {
    "tags": []
   },
   "outputs": [],
   "source": [
    "# manera manual de hacer LOOCV muy lento\n",
    "def LOOCV_regresion_lineal(X,y,base):\n",
    "    # se importan las librerias\n",
    "    from sklearn.linear_model import LinearRegression # para la regresion lineal\n",
    "    from sklearn.model_selection import train_test_split # para la division de la base\n",
    "    from sklearn.metrics import mean_squared_error # se importa el MSE\n",
    "    # se crean listas para almacenar resultados\n",
    "    MSE = [] # en esta se almacenan todos los RMSE\n",
    "    used = [] # en esta las observaciones que ya se usaron en test\n",
    "    # se crea el parametro de split tal que quede una solo operacion \n",
    "    split = 1/len(base)\n",
    "    # se crea el objeto del modelo\n",
    "    lr = LinearRegression()\n",
    "    # ahora se crea un while loop para hacer el modelo varias vaces\n",
    "    while len(used) < len(base):\n",
    "        # se divide la base\n",
    "        X_train, X_test, y_train, y_test = train_test_split( X, y, test_size=split) # se deja sin random state para que sea aleatorio\n",
    "        # se hace un condicional para chequear que el dato de test este en la base\n",
    "        for i in X_test:\n",
    "            if i not in used: # chequea si no esta en la list de los ya usadoa, si no esta corre el modelo\n",
    "                lr.fit(X_train,y_train) # se ajusta el modelo\n",
    "                y_hat = lr.predict(X_test) # se encuentran las predicciones\n",
    "                mse = mean_squared_error(y_test,y_hat)\n",
    "                MSE.append(mse) # se guarda el score \n",
    "            if i in used:\n",
    "                pass # se hace esta condicion que haga que si alguna observacion ya fue usada pase a la siguiente hasta completar todas\n",
    "    # Por ultimo se saca el promedio de todos los MSE y se retorna el valor\n",
    "    promedio = sum(MSE)/len(MSE)\n",
    "    return promedio"
   ]
  },
  {
   "cell_type": "code",
   "execution_count": 49,
   "id": "b35bd1c5-3d01-406e-89b2-82441dcfd406",
   "metadata": {
    "tags": []
   },
   "outputs": [],
   "source": [
    "MSE = []\n",
    "def regresion_lineal_LOOCV(X,y):\n",
    "    from sklearn.model_selection import LeaveOneOut\n",
    "    from sklearn.model_selection import cross_val_score\n",
    "    from numpy import mean\n",
    "    from numpy import absolute\n",
    "    from numpy import sqrt\n",
    "    from sklearn.linear_model import LinearRegression # para la regresion lineal\n",
    "    from sklearn.model_selection import train_test_split # para la division de la base\n",
    "    from sklearn.metrics import mean_squared_error \n",
    "    # division de la base \n",
    "    X_train, X_test, y_train, y_test = train_test_split(X, y, test_size=0.33, random_state=42)\n",
    "    cv = LeaveOneOut()\n",
    "    model = LinearRegression()\n",
    "    scores = cross_val_score(model, X, y, scoring='neg_mean_squared_error',\n",
    "                         cv=cv, n_jobs=-1)\n",
    "    model.fit(X_train,y_train)\n",
    "    y_hat = model.predict(X_test)\n",
    "    mse = mean(absolute(scores))\n",
    "    \n",
    "    return mse"
   ]
  },
  {
   "cell_type": "markdown",
   "id": "cb167403-8ea3-4b81-9239-c21f960abfc0",
   "metadata": {
    "tags": []
   },
   "source": [
    "## Para el cuarto modelo"
   ]
  },
  {
   "cell_type": "code",
   "execution_count": 50,
   "id": "fd5d3371-35ee-4a8a-b306-42252b7044ae",
   "metadata": {
    "tags": []
   },
   "outputs": [],
   "source": [
    "y = df_2_3.iloc[:,0].values\n",
    "columnas = ['Edad','Genero','Educacion','Educacion*Edad','Educacion**2','Edad**2','Educacion2*Edad2']\n",
    "X = df_2_3[columnas].values"
   ]
  },
  {
   "cell_type": "code",
   "execution_count": 51,
   "id": "8499b234-a7f4-41b6-9cc9-7a2ad592e158",
   "metadata": {
    "tags": []
   },
   "outputs": [
    {
     "data": {
      "text/plain": [
       "0.3994112561423333"
      ]
     },
     "execution_count": 51,
     "metadata": {},
     "output_type": "execute_result"
    }
   ],
   "source": [
    "regresion_lineal_LOOCV(X,y)"
   ]
  },
  {
   "cell_type": "markdown",
   "id": "369c09a2-6d3c-4456-bb1a-611ecd85ffe4",
   "metadata": {
    "tags": []
   },
   "source": [
    "## Para elquinto modelo"
   ]
  },
  {
   "cell_type": "code",
   "execution_count": 38,
   "id": "af638ca0-6b60-44bb-b725-cb8bcd39311c",
   "metadata": {
    "tags": []
   },
   "outputs": [],
   "source": [
    "y = df_2_3.iloc[:,0].values\n",
    "columnas = ['Edad','Genero','Educacion','Educacion*Edad','Educacion**3','Edad**3']\n",
    "X = df_2_3[columnas].values"
   ]
  }
 ],
 "metadata": {
  "kernelspec": {
   "display_name": "Python 3 (ipykernel)",
   "language": "python",
   "name": "python3"
  },
  "language_info": {
   "codemirror_mode": {
    "name": "ipython",
    "version": 3
   },
   "file_extension": ".py",
   "mimetype": "text/x-python",
   "name": "python",
   "nbconvert_exporter": "python",
   "pygments_lexer": "ipython3",
   "version": "3.11.4"
  }
 },
 "nbformat": 4,
 "nbformat_minor": 5
}
