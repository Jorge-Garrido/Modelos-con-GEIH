{
 "cells": [
  {
   "cell_type": "markdown",
   "metadata": {
    "id": "nYCxdJvexOzs"
   },
   "source": [
    "# Bases de Datos: GEIH DICIEMBRE 2021"
   ]
  },
  {
   "cell_type": "code",
   "execution_count": 1,
   "metadata": {
    "executionInfo": {
     "elapsed": 312,
     "status": "ok",
     "timestamp": 1695400908170,
     "user": {
      "displayName": "jorge g",
      "userId": "13903497703036498391"
     },
     "user_tz": 300
    },
    "id": "1mkBuZNIMERu"
   },
   "outputs": [],
   "source": [
    "import pandas as pd\n",
    "import numpy as np\n",
    "%matplotlib inline\n",
    "import warnings\n",
    "warnings.filterwarnings('ignore')"
   ]
  },
  {
   "cell_type": "markdown",
   "metadata": {
    "id": "jBCuuLJaONkR"
   },
   "source": [
    " ## Area-Caracteristicas Generales(Busca la variable de genero)"
   ]
  },
  {
   "cell_type": "code",
   "execution_count": 2,
   "metadata": {
    "executionInfo": {
     "elapsed": 534,
     "status": "ok",
     "timestamp": 1695400221939,
     "user": {
      "displayName": "jorge g",
      "userId": "13903497703036498391"
     },
     "user_tz": 300
    },
    "id": "oq8vzIPNM8y7"
   },
   "outputs": [],
   "source": [
    "car = pd.read_csv(r'C:\\Users\\JORGE\\Documents\\CSV\\Enero\\Área - Características generales (Personas).csv', delimiter = ';', encoding='latin-1')\n"
   ]
  },
  {
   "cell_type": "markdown",
   "metadata": {
    "id": "0U5QO3XAXG-L"
   },
   "source": [
    "### Feauture Selection Area Caracteristicas Generales"
   ]
  },
  {
   "cell_type": "code",
   "execution_count": 3,
   "metadata": {
    "executionInfo": {
     "elapsed": 312,
     "status": "ok",
     "timestamp": 1695400226689,
     "user": {
      "displayName": "jorge g",
      "userId": "13903497703036498391"
     },
     "user_tz": 300
    },
    "id": "wfMo8Y84XDRp"
   },
   "outputs": [],
   "source": [
    "# se seleccionan las variables que se van a dejar (Feature Selection)\n",
    "car = car[[\"DIRECTORIO\",\"ORDEN\",\"HOGAR\",\"P6071S1\",\"P6040\",\"P6020\" ,\"P6050\",\"P6071\",\"P6070\",\"DPTO\" ,\"P6090\",\"P6170\",\"P6175\",\"ESC\"]]\n",
    "# Se les cambia el nombre pra que sea facil trabajar\n",
    "car.columns=[\"DIRECTORIO\",\"ORDEN\",\"HOGAR\",\"orden_conyugue\", \"edad\",\"sexo\", \"rol_hogar\", \"conyuge_en_hogar\",  \"estado_civil\"  ,\"DPTO\",\"seguridadsocial\",\"estudia\",\"educ_publica\",\"educacion\"]"
   ]
  },
  {
   "cell_type": "markdown",
   "metadata": {},
   "source": [
    "### Data manipulation caracteristicas Generales"
   ]
  },
  {
   "cell_type": "code",
   "execution_count": 4,
   "metadata": {
    "id": "z8MJ-eIQZboV"
   },
   "outputs": [],
   "source": [
    "car[\"sexo\"]=car[\"sexo\"].replace({1:'hombre',2:'mujer'})\n",
    "car[\"rol_hogar\"]=car[\"rol_hogar\"].replace({1:'jefe',2:'pareja_jefe',3:'hijo/a_jefe',4:'nieto_jefe',5:'otro',6:'empleado_jefe',7:'pensionista',8:'trabajador',9:'otronopariente'})\n",
    "car[\"seguridadsocial\"]=car[\"seguridadsocial\"].replace({1:'asegurado',2:'noasegurado'})\n",
    "car[\"estudia\"]=car[\"estudia\"].replace({2:0})\n",
    "car[\"educ_publica\"]=car[\"educ_publica\"].replace({2:0})\n",
    "car['DPTO'] = car['DPTO'].replace({68:'Santander', 8:'Atlantico', 76:'Valle', 23:'Cordoba', 17:'Caldas',13:'Bolivar',5:'Antioquia',11:'Bogota',52:'Nariño',66:'Risaralda',50:'Meta',54:'Norte de Santander',73:'Tolima'})\n",
    "car['estado_civil'] = car['estado_civil'].replace({2:'Nocasados_viven>2años', 1:'Nocasados_viven<2años', 3:'Casados',4:'separados',5:'viudo',6:'soltero'})\n"
   ]
  },
  {
   "cell_type": "markdown",
   "metadata": {
    "id": "deKWh1MvZfVF"
   },
   "source": [
    "## Area-Ocupados"
   ]
  },
  {
   "cell_type": "code",
   "execution_count": 5,
   "metadata": {
    "executionInfo": {
     "elapsed": 823,
     "status": "ok",
     "timestamp": 1695400229445,
     "user": {
      "displayName": "jorge g",
      "userId": "13903497703036498391"
     },
     "user_tz": 300
    },
    "id": "FUIc6FefYBP6"
   },
   "outputs": [],
   "source": [
    "ocu = pd.read_csv(r'C:\\Users\\JORGE\\Documents\\CSV\\Enero\\Área - Ocupados.csv',delimiter=';', encoding='latin-1')"
   ]
  },
  {
   "cell_type": "markdown",
   "metadata": {},
   "source": [
    "### Feauture Selection Area ocupados"
   ]
  },
  {
   "cell_type": "code",
   "execution_count": 6,
   "metadata": {
    "executionInfo": {
     "elapsed": 3,
     "status": "ok",
     "timestamp": 1695400230260,
     "user": {
      "displayName": "jorge g",
      "userId": "13903497703036498391"
     },
     "user_tz": 300
    },
    "id": "H6_5Lrv1dULK"
   },
   "outputs": [],
   "source": [
    "ocu = ocu[[\"DIRECTORIO\",\"ORDEN\",\"INGLABO\",'P6440','P6460','P6790','OCI','P6430']]\n",
    "ocu.columns = [\"DIRECTORIO\",\"ORDEN\",\"INGLABO\", 'tipocontrato','terminocontrato','mesestrabajoultimoaño','ocupados','tipocupacion']"
   ]
  },
  {
   "cell_type": "markdown",
   "metadata": {},
   "source": [
    "### Data manipulation "
   ]
  },
  {
   "cell_type": "code",
   "execution_count": 7,
   "metadata": {
    "executionInfo": {
     "elapsed": 246,
     "status": "ok",
     "timestamp": 1695400243996,
     "user": {
      "displayName": "jorge g",
      "userId": "13903497703036498391"
     },
     "user_tz": 300
    },
    "id": "YOF8R-0ldy10"
   },
   "outputs": [],
   "source": [
    "ocu['tipocontrato'] = ocu['tipocontrato'].replace({1:'Verbal',2:'Escrito',3:'Noinfo'})\n",
    "ocu['terminocontrato'] = ocu['terminocontrato'].replace({1:'indefinido',2:'fijo',3:'Noinfo'})\n",
    "ocu['tipocupacion'] = ocu['tipocupacion'].replace({1:'empleadoempresa',2:'empleadogobierno',3:'empleadodomestico',4:'cuentapropia',5:'empleador',6:'familiarnoremu',7:'empleadonoremu',8:'jornalero',9:'otro'})"
   ]
  },
  {
   "cell_type": "markdown",
   "metadata": {
    "id": "qFsCqHjgtLWM"
   },
   "source": [
    "### Mezcla Base 1 y 2"
   ]
  },
  {
   "cell_type": "code",
   "execution_count": 8,
   "metadata": {
    "executionInfo": {
     "elapsed": 228,
     "status": "ok",
     "timestamp": 1695400249425,
     "user": {
      "displayName": "jorge g",
      "userId": "13903497703036498391"
     },
     "user_tz": 300
    },
    "id": "Xlg2WvBHtMfy"
   },
   "outputs": [],
   "source": [
    "car_ocu = car.merge(ocu, on = ['DIRECTORIO','ORDEN'])"
   ]
  },
  {
   "cell_type": "markdown",
   "metadata": {},
   "source": [
    "# Area otras ayudas"
   ]
  },
  {
   "cell_type": "code",
   "execution_count": 9,
   "metadata": {
    "id": "ZFApniO6xVJl"
   },
   "outputs": [],
   "source": [
    "dom = pd.read_csv(r'C:\\Users\\JORGE\\Documents\\CSV\\Enero\\Área - Otras actividades y ayudas en la semana.csv',delimiter=';')"
   ]
  },
  {
   "cell_type": "code",
   "execution_count": 10,
   "metadata": {},
   "outputs": [],
   "source": [
    "dom = dom[['DIRECTORIO','ORDEN','P7480S3A1']]\n",
    "dom.columns=['DIRECTORIO','ORDEN','horas_labores_domesticas']"
   ]
  },
  {
   "cell_type": "markdown",
   "metadata": {},
   "source": [
    "### Merge"
   ]
  },
  {
   "cell_type": "code",
   "execution_count": 11,
   "metadata": {},
   "outputs": [],
   "source": [
    "# Base final\n",
    "merge1 = car_ocu.merge(dom, on = ['DIRECTORIO','ORDEN'])\n",
    "#print('La base de datos tiene '+str(len(df))+' observaciones y tiene '+str(len(df.dropna()))+' quitando valores nulos')"
   ]
  },
  {
   "cell_type": "markdown",
   "metadata": {},
   "source": [
    "# Area vivienda"
   ]
  },
  {
   "cell_type": "code",
   "execution_count": 12,
   "metadata": {},
   "outputs": [],
   "source": [
    "viv = pd.read_csv(r'C:\\Users\\JORGE\\Documents\\CSV\\Enero\\Área - Vivienda y Hogares.csv',delimiter=';')"
   ]
  },
  {
   "cell_type": "code",
   "execution_count": 13,
   "metadata": {},
   "outputs": [],
   "source": [
    "viv = viv[[\"DIRECTORIO\",\"HOGAR\",'P5000','P5210S3','P5210S4','P5210S2','P5210S5','P5210S7','P5210S16','P5210S21','P5210S22','P6008','P4000','P4030S1']]\n",
    "viv.columns = [\"DIRECTORIO\",\"HOGAR\",'#_cuartos_vivienda','internet','lavadora','television','nevera','estufa','computador','moto','carroparticular','totalpersonashogar','tipovivienda','energia']\n",
    "\n",
    "#viv['tipovivienda']=viv['tipovivienda'].replace({1:'casa',2:'apto',3:'cuartoalqui',4:'cuartootro',5:'indigena',6:'otra'})\n",
    "viv['internet']=viv['internet'].replace({2:0})\n",
    "viv['lavadora']=viv['lavadora'].replace({2:0})\n",
    "viv['television']=viv['television'].replace({2:0})\n",
    "viv['nevera']=viv['nevera'].replace({2:0})\n",
    "viv['estufa']=viv['estufa'].replace({2:0})\n",
    "viv['computador']=viv['computador'].replace({2:0})\n",
    "viv['moto']=viv['moto'].replace({2:0})\n",
    "viv['carroparticular']=viv['carroparticular'].replace({2:0})\n",
    "viv['energia']=viv['energia'].replace({2:0})"
   ]
  },
  {
   "cell_type": "markdown",
   "metadata": {},
   "source": [
    "# BAse final"
   ]
  },
  {
   "cell_type": "code",
   "execution_count": 14,
   "metadata": {},
   "outputs": [],
   "source": [
    "df = merge1.merge(viv, on = ['DIRECTORIO',\"HOGAR\"])"
   ]
  },
  {
   "cell_type": "markdown",
   "metadata": {},
   "source": [
    "# Regresion lineal del logaritmo del salario"
   ]
  },
  {
   "cell_type": "code",
   "execution_count": 15,
   "metadata": {},
   "outputs": [],
   "source": [
    "from sklearn.linear_model import LinearRegression\n",
    "from sklearn.model_selection import train_test_split\n",
    "from sklearn.metrics import r2_score, mean_squared_error\n",
    "from sklearn.preprocessing import StandardScaler"
   ]
  },
  {
   "cell_type": "code",
   "execution_count": 16,
   "metadata": {},
   "outputs": [],
   "source": [
    "df1 = df.drop(['terminocontrato',\"educ_publica\",\"DIRECTORIO\",\"ORDEN\",\"HOGAR\",\"orden_conyugue\",\"conyuge_en_hogar\",\"ocupados\"],axis=1)\n"
   ]
  },
  {
   "cell_type": "code",
   "execution_count": 17,
   "metadata": {},
   "outputs": [],
   "source": [
    "df1 = pd.get_dummies(df1, dtype=int)"
   ]
  },
  {
   "cell_type": "code",
   "execution_count": 18,
   "metadata": {},
   "outputs": [],
   "source": [
    "# se quitan los salarios 0 para poder utilizar log\n",
    "df1 = df1[df1['INGLABO']>0]\n",
    "df1['educacion**2']=df1['educacion']**2"
   ]
  },
  {
   "cell_type": "code",
   "execution_count": 19,
   "metadata": {},
   "outputs": [],
   "source": [
    "df1 = df1.dropna(how='any')"
   ]
  },
  {
   "cell_type": "markdown",
   "metadata": {},
   "source": [
    "## Analisis de correlacion de variables con el logaritmo del salario"
   ]
  },
  {
   "cell_type": "code",
   "execution_count": 20,
   "metadata": {
    "tags": []
   },
   "outputs": [],
   "source": [
    "def correlacion(datos,variable=str):\n",
    "    a = datos.corr().loc[variable, :].sort_values(ascending=False)\n",
    "    z = [i for i in a if i >= 0.1] # se quieren ver solo correlaciones mayores a 0.1\n",
    "    head = len(z)\n",
    "    return a.head(head)\n",
    "    "
   ]
  },
  {
   "cell_type": "code",
   "execution_count": 21,
   "metadata": {
    "tags": []
   },
   "outputs": [
    {
     "data": {
      "text/plain": [
       "INGLABO                          1.000000\n",
       "educacion**2                     0.470052\n",
       "educacion                        0.408543\n",
       "carroparticular                  0.364283\n",
       "tipocupacion_empleadogobierno    0.306786\n",
       "computador                       0.287030\n",
       "internet                         0.222275\n",
       "tipocontrato_Verbal              0.213507\n",
       "lavadora                         0.195068\n",
       "television                       0.177770\n",
       "tipocupacion_empleador           0.161884\n",
       "estado_civil_Casados             0.156220\n",
       "#_cuartos_vivienda               0.138805\n",
       "nevera                           0.121666\n",
       "mesestrabajoultimoaño            0.115561\n",
       "Name: INGLABO, dtype: float64"
      ]
     },
     "execution_count": 21,
     "metadata": {},
     "output_type": "execute_result"
    }
   ],
   "source": [
    "correlacion(df1,'INGLABO')"
   ]
  },
  {
   "cell_type": "code",
   "execution_count": 22,
   "metadata": {},
   "outputs": [],
   "source": [
    "# se convierte al logaritmo del salario basandose en literatura economica\n",
    "y = np.log(df1['INGLABO'].values)\n",
    "# se arma X, se quitan algunas dummies que no tienen observaciones\n",
    "X = df1.drop(['INGLABO','tipocupacion_familiarnoremu','tipocupacion_empleadonoremu','tipocupacion_empleadonoremu','tipocupacion_familiarnoremu','tipocupacion_otro'], axis=1).values"
   ]
  },
  {
   "cell_type": "markdown",
   "metadata": {},
   "source": [
    "## Modelo regresion lineal normal"
   ]
  },
  {
   "cell_type": "code",
   "execution_count": 23,
   "metadata": {},
   "outputs": [],
   "source": [
    "def regresion_lineal(X,y):\n",
    "    # division de la base \n",
    "    X_train, X_test, y_train, y_test = train_test_split(X, y, test_size=0.33, random_state=42)\n",
    "    #normalizacion de X\n",
    "    sc = StandardScaler()\n",
    "    X_train = sc.fit_transform(X_train)\n",
    "    X_test = sc.transform(X_test)\n",
    "    # entrenamiento del modelo\n",
    "    lr = LinearRegression()\n",
    "    lr.fit(X_train,y_train)\n",
    "    # predicciones\n",
    "    y_hat = lr.predict(X_test)\n",
    "    # metricas\n",
    "    rmse = np.sqrt(mean_squared_error(y_test,y_hat))\n",
    "    mse = mean_squared_error(y_test,y_hat)\n",
    "    r2 = r2_score(y_test,y_hat)\n",
    "    return {'rmse':rmse, 'mse':mse, 'r2':r2, 'numero de observaciones de entrenamiento':len(y_train)}"
   ]
  },
  {
   "cell_type": "code",
   "execution_count": 24,
   "metadata": {},
   "outputs": [
    {
     "name": "stdout",
     "output_type": "stream",
     "text": [
      "{'rmse': 0.610304340234178, 'mse': 0.3724713877086753, 'r2': 0.4809610187469888, 'numero de observaciones de entrenamiento': 5666}\n"
     ]
    }
   ],
   "source": [
    "modelo=regresion_lineal(X,y)\n",
    "print(modelo)\n"
   ]
  },
  {
   "cell_type": "markdown",
   "metadata": {
    "tags": []
   },
   "source": [
    "## Modelo ridge"
   ]
  },
  {
   "cell_type": "code",
   "execution_count": 25,
   "metadata": {},
   "outputs": [],
   "source": [
    "from sklearn.linear_model import Ridge"
   ]
  },
  {
   "cell_type": "code",
   "execution_count": 26,
   "metadata": {},
   "outputs": [],
   "source": [
    "def regresion_ridge(X,y,alpha):\n",
    "    X_train, X_test, y_train, y_test = train_test_split(X, y, test_size=0.33, random_state=42)\n",
    "    #normalizacion de X\n",
    "    sc = StandardScaler()\n",
    "    X_train = sc.fit_transform(X_train)\n",
    "    X_test = sc.transform(X_test)\n",
    "    # modelo ridge\n",
    "    l_ridge = Ridge(alpha).fit(X_train,y_train)\n",
    "    # predicciones\n",
    "    y_hat = l_ridge.predict(X_test)\n",
    "    # metricas\n",
    "    rmse = np.sqrt(mean_squared_error(y_test,y_hat))\n",
    "    mse = mean_squared_error(y_test,y_hat)\n",
    "    r2 = r2_score(y_test,y_hat)\n",
    "    return {'rmse':rmse, 'mse':mse, 'r2':r2, 'numero de observaciones de entrenamiento':len(y_train)}"
   ]
  },
  {
   "cell_type": "code",
   "execution_count": 27,
   "metadata": {},
   "outputs": [
    {
     "data": {
      "text/plain": [
       "{'rmse': 0.6097199837289877,\n",
       " 'mse': 0.37175845855847706,\n",
       " 'r2': 0.48195448571394395,\n",
       " 'numero de observaciones de entrenamiento': 5666}"
      ]
     },
     "execution_count": 27,
     "metadata": {},
     "output_type": "execute_result"
    }
   ],
   "source": [
    "regresion_ridge(X,y,1)"
   ]
  },
  {
   "cell_type": "markdown",
   "metadata": {},
   "source": [
    "## Modelo Lasso"
   ]
  },
  {
   "cell_type": "code",
   "execution_count": 28,
   "metadata": {},
   "outputs": [],
   "source": [
    "from sklearn.linear_model import Lasso"
   ]
  },
  {
   "cell_type": "code",
   "execution_count": 29,
   "metadata": {},
   "outputs": [],
   "source": [
    "def regresion_lasso(X,y,alpha):\n",
    "    X_train, X_test, y_train, y_test = train_test_split(X, y, test_size=0.33, random_state=42)\n",
    "    #normalizacion de X\n",
    "    sc = StandardScaler()\n",
    "    X_train = sc.fit_transform(X_train)\n",
    "    X_test = sc.transform(X_test)\n",
    "    # modelo ridge\n",
    "    l_lasso = Lasso(alpha).fit(X_train,y_train)\n",
    "    # predicciones\n",
    "    y_hat = l_lasso.predict(X_test)\n",
    "    # metricas\n",
    "    rmse = np.sqrt(mean_squared_error(y_test,y_hat))\n",
    "    mse = mean_squared_error(y_test,y_hat)\n",
    "    r2 = r2_score(y_test,y_hat)\n",
    "    return {'rmse':rmse, 'mse':mse, 'r2':r2, 'numero de observaciones de entrenamiento':len(y_train)}"
   ]
  },
  {
   "cell_type": "code",
   "execution_count": 30,
   "metadata": {},
   "outputs": [
    {
     "data": {
      "text/plain": [
       "{'rmse': 0.611585434787389,\n",
       " 'mse': 0.37403674404407966,\n",
       " 'r2': 0.4787796942629142,\n",
       " 'numero de observaciones de entrenamiento': 5666}"
      ]
     },
     "execution_count": 30,
     "metadata": {},
     "output_type": "execute_result"
    }
   ],
   "source": [
    "regresion_lasso(X,y,0.005)"
   ]
  },
  {
   "cell_type": "markdown",
   "metadata": {
    "tags": []
   },
   "source": [
    "# Modelos de clasificacion"
   ]
  },
  {
   "cell_type": "markdown",
   "metadata": {
    "tags": []
   },
   "source": [
    "## Acceso a internet\n",
    "Este modelo busca predecir si algun Colombiano tiene acceso a internet dadas sus caracteristicas"
   ]
  },
  {
   "cell_type": "code",
   "execution_count": 31,
   "metadata": {
    "tags": []
   },
   "outputs": [],
   "source": [
    "from sklearn.linear_model import LogisticRegression\n",
    "from sklearn.ensemble import RandomForestClassifier\n",
    "from sklearn.svm import SVC\n",
    "from sklearn.metrics import accuracy_score"
   ]
  },
  {
   "cell_type": "code",
   "execution_count": 32,
   "metadata": {
    "tags": []
   },
   "outputs": [],
   "source": [
    "y = df1['internet']\n",
    "X = df1.drop('internet', axis = 1)\n"
   ]
  },
  {
   "cell_type": "code",
   "execution_count": 33,
   "metadata": {
    "tags": []
   },
   "outputs": [
    {
     "data": {
      "text/plain": [
       "internet                         1.000000\n",
       "television                       0.532127\n",
       "computador                       0.476796\n",
       "lavadora                         0.428317\n",
       "educacion**2                     0.317302\n",
       "educacion                        0.314611\n",
       "#_cuartos_vivienda               0.297758\n",
       "nevera                           0.288959\n",
       "carroparticular                  0.235841\n",
       "INGLABO                          0.222275\n",
       "tipocontrato_Verbal              0.158479\n",
       "estado_civil_Casados             0.153470\n",
       "moto                             0.152343\n",
       "estufa                           0.136146\n",
       "tipocupacion_empleadoempresa     0.128095\n",
       "tipocupacion_empleadogobierno    0.112286\n",
       "seguridadsocial_asegurado        0.104092\n",
       "Name: internet, dtype: float64"
      ]
     },
     "execution_count": 33,
     "metadata": {},
     "output_type": "execute_result"
    }
   ],
   "source": [
    "correlacion(df1,'internet')"
   ]
  },
  {
   "cell_type": "code",
   "execution_count": 34,
   "metadata": {
    "tags": []
   },
   "outputs": [],
   "source": [
    "def logit_svm_random_forest(X,y,kernel_svc):\n",
    "    num_variables = len(X.columns)\n",
    "    X_train, X_test, y_train, y_test = train_test_split(X, y, test_size=0.33, random_state=42)\n",
    "    #normalizacion de X\n",
    "    sc = StandardScaler()\n",
    "    X_train = sc.fit_transform(X_train)\n",
    "    X_test = sc.transform(X_test)\n",
    "    #modelo Logit\n",
    "    lg = LogisticRegression().fit(X_train,y_train)\n",
    "    #predicciones\n",
    "    y_hat_logit = lg.predict(X_test)\n",
    "    #metricas logit\n",
    "    rmse_logit = np.sqrt(mean_squared_error(y_test,y_hat_logit))\n",
    "    mse_logit = mean_squared_error(y_test,y_hat_logit)\n",
    "    accuracy_logit = accuracy_score(y_test,y_hat_logit)\n",
    "    logit = [rmse_logit, mse_logit,accuracy_logit,num_variables]\n",
    "    # SVC\n",
    "    svc = SVC(kernel = kernel_svc).fit(X_train,y_train)\n",
    "    #predicciones svc\n",
    "    y_hat_svc = svc.predict(X_test)\n",
    "    # metricas svc\n",
    "    rmse_svc = np.sqrt(mean_squared_error(y_test,y_hat_svc))\n",
    "    mse_svc = mean_squared_error(y_test,y_hat_svc)\n",
    "    accuracy_svc = accuracy_score(y_test,y_hat_svc)\n",
    "    svmm=[rmse_svc,mse_svc,accuracy_svc,num_variables]\n",
    "    # Random forest\n",
    "    rf = RandomForestClassifier().fit(X_train,y_train)\n",
    "    # predicciones random forest\n",
    "    y_hat_rf = rf.predict(X_test)\n",
    "    #metricas random forest\n",
    "    rmse_rf = np.sqrt(mean_squared_error(y_test,y_hat_rf))\n",
    "    mse_rf = mean_squared_error(y_test,y_hat_rf)\n",
    "    accuracy_rf = accuracy_score(y_test,y_hat_rf)\n",
    "    rff=[rmse_rf,mse_rf,accuracy_svc,num_variables]\n",
    "    # se crea un data frame para guardar resultados\n",
    "    metricas = pd.DataFrame(np.column_stack([logit, svmm, rff]), \n",
    "                               columns=['logit', 'SVC', 'Random forest'],\n",
    "                            index=['rmse','mse','accuracy','numero de variables'])\n",
    "   \n",
    "    return metricas.T\n",
    "    \n",
    "    "
   ]
  },
  {
   "cell_type": "code",
   "execution_count": 35,
   "metadata": {
    "tags": []
   },
   "outputs": [
    {
     "data": {
      "text/html": [
       "<div>\n",
       "<style scoped>\n",
       "    .dataframe tbody tr th:only-of-type {\n",
       "        vertical-align: middle;\n",
       "    }\n",
       "\n",
       "    .dataframe tbody tr th {\n",
       "        vertical-align: top;\n",
       "    }\n",
       "\n",
       "    .dataframe thead th {\n",
       "        text-align: right;\n",
       "    }\n",
       "</style>\n",
       "<table border=\"1\" class=\"dataframe\">\n",
       "  <thead>\n",
       "    <tr style=\"text-align: right;\">\n",
       "      <th></th>\n",
       "      <th>rmse</th>\n",
       "      <th>mse</th>\n",
       "      <th>accuracy</th>\n",
       "      <th>numero de variables</th>\n",
       "    </tr>\n",
       "  </thead>\n",
       "  <tbody>\n",
       "    <tr>\n",
       "      <th>logit</th>\n",
       "      <td>0.401019</td>\n",
       "      <td>0.160817</td>\n",
       "      <td>0.839183</td>\n",
       "      <td>62.0</td>\n",
       "    </tr>\n",
       "    <tr>\n",
       "      <th>SVC</th>\n",
       "      <td>0.396529</td>\n",
       "      <td>0.157235</td>\n",
       "      <td>0.842765</td>\n",
       "      <td>62.0</td>\n",
       "    </tr>\n",
       "    <tr>\n",
       "      <th>Random forest</th>\n",
       "      <td>0.384607</td>\n",
       "      <td>0.147923</td>\n",
       "      <td>0.842765</td>\n",
       "      <td>62.0</td>\n",
       "    </tr>\n",
       "  </tbody>\n",
       "</table>\n",
       "</div>"
      ],
      "text/plain": [
       "                   rmse       mse  accuracy  numero de variables\n",
       "logit          0.401019  0.160817  0.839183                 62.0\n",
       "SVC            0.396529  0.157235  0.842765                 62.0\n",
       "Random forest  0.384607  0.147923  0.842765                 62.0"
      ]
     },
     "execution_count": 35,
     "metadata": {},
     "output_type": "execute_result"
    }
   ],
   "source": [
    "logit_svm_random_forest(X,y,'rbf')\n"
   ]
  },
  {
   "cell_type": "markdown",
   "metadata": {
    "tags": []
   },
   "source": [
    "## Tenencia de vehiculo"
   ]
  },
  {
   "cell_type": "code",
   "execution_count": 36,
   "metadata": {
    "tags": []
   },
   "outputs": [
    {
     "data": {
      "text/plain": [
       "carroparticular                  1.000000\n",
       "INGLABO                          0.364283\n",
       "educacion**2                     0.361123\n",
       "computador                       0.328572\n",
       "educacion                        0.313297\n",
       "estado_civil_Casados             0.244289\n",
       "internet                         0.235841\n",
       "#_cuartos_vivienda               0.231026\n",
       "lavadora                         0.219513\n",
       "television                       0.195148\n",
       "tipocupacion_empleadogobierno    0.181791\n",
       "nevera                           0.126065\n",
       "tipocupacion_empleador           0.116147\n",
       "Name: carroparticular, dtype: float64"
      ]
     },
     "execution_count": 36,
     "metadata": {},
     "output_type": "execute_result"
    }
   ],
   "source": [
    "correlacion(df1,'carroparticular')"
   ]
  },
  {
   "cell_type": "code",
   "execution_count": 37,
   "metadata": {
    "tags": []
   },
   "outputs": [],
   "source": [
    "y = df1['carroparticular'].values\n",
    "X = df1.drop('carroparticular', axis = 1)"
   ]
  },
  {
   "cell_type": "code",
   "execution_count": 38,
   "metadata": {
    "tags": []
   },
   "outputs": [
    {
     "data": {
      "text/html": [
       "<div>\n",
       "<style scoped>\n",
       "    .dataframe tbody tr th:only-of-type {\n",
       "        vertical-align: middle;\n",
       "    }\n",
       "\n",
       "    .dataframe tbody tr th {\n",
       "        vertical-align: top;\n",
       "    }\n",
       "\n",
       "    .dataframe thead th {\n",
       "        text-align: right;\n",
       "    }\n",
       "</style>\n",
       "<table border=\"1\" class=\"dataframe\">\n",
       "  <thead>\n",
       "    <tr style=\"text-align: right;\">\n",
       "      <th></th>\n",
       "      <th>rmse</th>\n",
       "      <th>mse</th>\n",
       "      <th>accuracy</th>\n",
       "      <th>numero de variables</th>\n",
       "    </tr>\n",
       "  </thead>\n",
       "  <tbody>\n",
       "    <tr>\n",
       "      <th>logit</th>\n",
       "      <td>0.340655</td>\n",
       "      <td>0.116046</td>\n",
       "      <td>0.883954</td>\n",
       "      <td>62.0</td>\n",
       "    </tr>\n",
       "    <tr>\n",
       "      <th>SVC</th>\n",
       "      <td>0.343273</td>\n",
       "      <td>0.117837</td>\n",
       "      <td>0.882163</td>\n",
       "      <td>62.0</td>\n",
       "    </tr>\n",
       "    <tr>\n",
       "      <th>Random forest</th>\n",
       "      <td>0.333214</td>\n",
       "      <td>0.111032</td>\n",
       "      <td>0.882163</td>\n",
       "      <td>62.0</td>\n",
       "    </tr>\n",
       "  </tbody>\n",
       "</table>\n",
       "</div>"
      ],
      "text/plain": [
       "                   rmse       mse  accuracy  numero de variables\n",
       "logit          0.340655  0.116046  0.883954                 62.0\n",
       "SVC            0.343273  0.117837  0.882163                 62.0\n",
       "Random forest  0.333214  0.111032  0.882163                 62.0"
      ]
     },
     "execution_count": 38,
     "metadata": {},
     "output_type": "execute_result"
    }
   ],
   "source": [
    "logit_svm_random_forest(X,y,'rbf')"
   ]
  },
  {
   "cell_type": "code",
   "execution_count": null,
   "metadata": {},
   "outputs": [],
   "source": [
    "a = []\n",
    "for i in df['"
   ]
  }
 ],
 "metadata": {
  "colab": {
   "authorship_tag": "ABX9TyNeVBZYva880qzMUSgv33CV",
   "provenance": []
  },
  "kernelspec": {
   "display_name": "Python 3 (ipykernel)",
   "language": "python",
   "name": "python3"
  },
  "language_info": {
   "codemirror_mode": {
    "name": "ipython",
    "version": 3
   },
   "file_extension": ".py",
   "mimetype": "text/x-python",
   "name": "python",
   "nbconvert_exporter": "python",
   "pygments_lexer": "ipython3",
   "version": "3.11.4"
  }
 },
 "nbformat": 4,
 "nbformat_minor": 4
}
