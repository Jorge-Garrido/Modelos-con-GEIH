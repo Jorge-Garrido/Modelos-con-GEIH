{
 "cells": [
  {
   "cell_type": "markdown",
   "metadata": {},
   "source": [
    "# Regresion lineal del logaritmo del salario"
   ]
  },
  {
   "cell_type": "code",
   "execution_count": 15,
   "metadata": {},
   "outputs": [],
   "source": [
    "from sklearn.linear_model import LinearRegression\n",
    "from sklearn.model_selection import train_test_split\n",
    "from sklearn.metrics import r2_score, mean_squared_error\n",
    "from sklearn.preprocessing import StandardScaler"
   ]
  },
  {
   "cell_type": "code",
   "execution_count": 16,
   "metadata": {},
   "outputs": [],
   "source": [
    "df1 = df.drop(['terminocontrato',\"educ_publica\",\"DIRECTORIO\",\"ORDEN\",\"HOGAR\",\"orden_conyugue\",\"conyuge_en_hogar\",\"ocupados\"],axis=1)\n"
   ]
  },
  {
   "cell_type": "code",
   "execution_count": 17,
   "metadata": {},
   "outputs": [],
   "source": [
    "df1 = pd.get_dummies(df1, dtype=int)"
   ]
  },
  {
   "cell_type": "code",
   "execution_count": 18,
   "metadata": {},
   "outputs": [],
   "source": [
    "# se quitan los salarios 0 para poder utilizar log\n",
    "df1 = df1[df1['INGLABO']>0]\n",
    "df1['educacion**2']=df1['educacion']**2"
   ]
  },
  {
   "cell_type": "code",
   "execution_count": 19,
   "metadata": {},
   "outputs": [],
   "source": [
    "df1 = df1.dropna(how='any')"
   ]
  },
  {
   "cell_type": "markdown",
   "metadata": {},
   "source": [
    "## Analisis de correlacion de variables con el logaritmo del salario"
   ]
  },
  {
   "cell_type": "code",
   "execution_count": 20,
   "metadata": {
    "tags": []
   },
   "outputs": [],
   "source": [
    "def correlacion(datos,variable=str):\n",
    "    a = datos.corr().loc[variable, :].sort_values(ascending=False)\n",
    "    z = [i for i in a if i >= 0.1] # se quieren ver solo correlaciones mayores a 0.1\n",
    "    head = len(z)\n",
    "    return a.head(head)\n",
    "    "
   ]
  },
  {
   "cell_type": "code",
   "execution_count": 21,
   "metadata": {
    "tags": []
   },
   "outputs": [
    {
     "data": {
      "text/plain": [
       "INGLABO                          1.000000\n",
       "educacion**2                     0.470052\n",
       "educacion                        0.408543\n",
       "carroparticular                  0.364283\n",
       "tipocupacion_empleadogobierno    0.306786\n",
       "computador                       0.287030\n",
       "internet                         0.222275\n",
       "tipocontrato_Verbal              0.213507\n",
       "lavadora                         0.195068\n",
       "television                       0.177770\n",
       "tipocupacion_empleador           0.161884\n",
       "estado_civil_Casados             0.156220\n",
       "#_cuartos_vivienda               0.138805\n",
       "nevera                           0.121666\n",
       "mesestrabajoultimoaño            0.115561\n",
       "Name: INGLABO, dtype: float64"
      ]
     },
     "execution_count": 21,
     "metadata": {},
     "output_type": "execute_result"
    }
   ],
   "source": [
    "correlacion(df1,'INGLABO')"
   ]
  },
  {
   "cell_type": "code",
   "execution_count": 22,
   "metadata": {},
   "outputs": [],
   "source": [
    "# se convierte al logaritmo del salario basandose en literatura economica\n",
    "y = np.log(df1['INGLABO'].values)\n",
    "# se arma X, se quitan algunas dummies que no tienen observaciones\n",
    "X = df1.drop(['INGLABO','tipocupacion_familiarnoremu','tipocupacion_empleadonoremu','tipocupacion_empleadonoremu','tipocupacion_familiarnoremu','tipocupacion_otro'], axis=1).values"
   ]
  },
  {
   "cell_type": "markdown",
   "metadata": {},
   "source": [
    "## Modelo regresion lineal normal"
   ]
  },
  {
   "cell_type": "code",
   "execution_count": 23,
   "metadata": {},
   "outputs": [],
   "source": [
    "def regresion_lineal(X,y):\n",
    "    # division de la base \n",
    "    X_train, X_test, y_train, y_test = train_test_split(X, y, test_size=0.33, random_state=42)\n",
    "    #normalizacion de X\n",
    "    sc = StandardScaler()\n",
    "    X_train = sc.fit_transform(X_train)\n",
    "    X_test = sc.transform(X_test)\n",
    "    # entrenamiento del modelo\n",
    "    lr = LinearRegression()\n",
    "    lr.fit(X_train,y_train)\n",
    "    # predicciones\n",
    "    y_hat = lr.predict(X_test)\n",
    "    # metricas\n",
    "    rmse = np.sqrt(mean_squared_error(y_test,y_hat))\n",
    "    mse = mean_squared_error(y_test,y_hat)\n",
    "    r2 = r2_score(y_test,y_hat)\n",
    "    return {'rmse':rmse, 'mse':mse, 'r2':r2, 'numero de observaciones de entrenamiento':len(y_train)}"
   ]
  },
  {
   "cell_type": "code",
   "execution_count": 24,
   "metadata": {},
   "outputs": [
    {
     "name": "stdout",
     "output_type": "stream",
     "text": [
      "{'rmse': 0.610304340234178, 'mse': 0.3724713877086753, 'r2': 0.4809610187469888, 'numero de observaciones de entrenamiento': 5666}\n"
     ]
    }
   ],
   "source": [
    "modelo=regresion_lineal(X,y)\n",
    "print(modelo)\n"
   ]
  },
  {
   "cell_type": "markdown",
   "metadata": {
    "tags": []
   },
   "source": [
    "## Modelo ridge"
   ]
  },
  {
   "cell_type": "code",
   "execution_count": 25,
   "metadata": {},
   "outputs": [],
   "source": [
    "from sklearn.linear_model import Ridge"
   ]
  },
  {
   "cell_type": "code",
   "execution_count": 26,
   "metadata": {},
   "outputs": [],
   "source": [
    "def regresion_ridge(X,y,alpha):\n",
    "    X_train, X_test, y_train, y_test = train_test_split(X, y, test_size=0.33, random_state=42)\n",
    "    #normalizacion de X\n",
    "    sc = StandardScaler()\n",
    "    X_train = sc.fit_transform(X_train)\n",
    "    X_test = sc.transform(X_test)\n",
    "    # modelo ridge\n",
    "    l_ridge = Ridge(alpha).fit(X_train,y_train)\n",
    "    # predicciones\n",
    "    y_hat = l_ridge.predict(X_test)\n",
    "    # metricas\n",
    "    rmse = np.sqrt(mean_squared_error(y_test,y_hat))\n",
    "    mse = mean_squared_error(y_test,y_hat)\n",
    "    r2 = r2_score(y_test,y_hat)\n",
    "    return {'rmse':rmse, 'mse':mse, 'r2':r2, 'numero de observaciones de entrenamiento':len(y_train)}"
   ]
  },
  {
   "cell_type": "code",
   "execution_count": 27,
   "metadata": {},
   "outputs": [
    {
     "data": {
      "text/plain": [
       "{'rmse': 0.6097199837289877,\n",
       " 'mse': 0.37175845855847706,\n",
       " 'r2': 0.48195448571394395,\n",
       " 'numero de observaciones de entrenamiento': 5666}"
      ]
     },
     "execution_count": 27,
     "metadata": {},
     "output_type": "execute_result"
    }
   ],
   "source": [
    "regresion_ridge(X,y,1)"
   ]
  },
  {
   "cell_type": "markdown",
   "metadata": {},
   "source": [
    "## Modelo Lasso"
   ]
  },
  {
   "cell_type": "code",
   "execution_count": 28,
   "metadata": {},
   "outputs": [],
   "source": [
    "from sklearn.linear_model import Lasso"
   ]
  },
  {
   "cell_type": "code",
   "execution_count": 29,
   "metadata": {},
   "outputs": [],
   "source": [
    "def regresion_lasso(X,y,alpha):\n",
    "    X_train, X_test, y_train, y_test = train_test_split(X, y, test_size=0.33, random_state=42)\n",
    "    #normalizacion de X\n",
    "    sc = StandardScaler()\n",
    "    X_train = sc.fit_transform(X_train)\n",
    "    X_test = sc.transform(X_test)\n",
    "    # modelo ridge\n",
    "    l_lasso = Lasso(alpha).fit(X_train,y_train)\n",
    "    # predicciones\n",
    "    y_hat = l_lasso.predict(X_test)\n",
    "    # metricas\n",
    "    rmse = np.sqrt(mean_squared_error(y_test,y_hat))\n",
    "    mse = mean_squared_error(y_test,y_hat)\n",
    "    r2 = r2_score(y_test,y_hat)\n",
    "    return {'rmse':rmse, 'mse':mse, 'r2':r2, 'numero de observaciones de entrenamiento':len(y_train)}"
   ]
  },
  {
   "cell_type": "code",
   "execution_count": 30,
   "metadata": {},
   "outputs": [
    {
     "data": {
      "text/plain": [
       "{'rmse': 0.611585434787389,\n",
       " 'mse': 0.37403674404407966,\n",
       " 'r2': 0.4787796942629142,\n",
       " 'numero de observaciones de entrenamiento': 5666}"
      ]
     },
     "execution_count": 30,
     "metadata": {},
     "output_type": "execute_result"
    }
   ],
   "source": [
    "regresion_lasso(X,y,0.005)"
   ]
  }
 ],
 "metadata": {
  "colab": {
   "authorship_tag": "ABX9TyNeVBZYva880qzMUSgv33CV",
   "provenance": []
  },
  "kernelspec": {
   "display_name": "Python 3 (ipykernel)",
   "language": "python",
   "name": "python3"
  },
  "language_info": {
   "codemirror_mode": {
    "name": "ipython",
    "version": 3
   },
   "file_extension": ".py",
   "mimetype": "text/x-python",
   "name": "python",
   "nbconvert_exporter": "python",
   "pygments_lexer": "ipython3",
   "version": "3.11.4"
  }
 },
 "nbformat": 4,
 "nbformat_minor": 4
}
