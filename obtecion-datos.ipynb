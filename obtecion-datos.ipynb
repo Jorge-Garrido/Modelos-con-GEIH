{
 "cells": [
  {
   "cell_type": "code",
   "execution_count": 1,
   "metadata": {
    "executionInfo": {
     "elapsed": 312,
     "status": "ok",
     "timestamp": 1695400908170,
     "user": {
      "displayName": "jorge g",
      "userId": "13903497703036498391"
     },
     "user_tz": 300
    },
    "id": "1mkBuZNIMERu"
   },
   "outputs": [],
   "source": [
    "import pandas as pd\n",
    "import numpy as np\n",
    "%matplotlib inline\n",
    "import warnings\n",
    "warnings.filterwarnings('ignore')"
   ]
  },
  {
   "cell_type": "markdown",
   "metadata": {
    "id": "nYCxdJvexOzs"
   },
   "source": [
    "# Bases de Datos: GEIH DICIEMBRE 2021"
   ]
  },
  {
   "cell_type": "markdown",
   "metadata": {
    "id": "jBCuuLJaONkR"
   },
   "source": [
    " ## Area-Caracteristicas Generales(Busca la variable de genero)"
   ]
  },
  {
   "cell_type": "code",
   "execution_count": 2,
   "metadata": {
    "executionInfo": {
     "elapsed": 534,
     "status": "ok",
     "timestamp": 1695400221939,
     "user": {
      "displayName": "jorge g",
      "userId": "13903497703036498391"
     },
     "user_tz": 300
    },
    "id": "oq8vzIPNM8y7"
   },
   "outputs": [],
   "source": [
    "car = pd.read_csv(r'C:\\Users\\JORGE\\Documents\\CSV\\Enero\\Área - Características generales (Personas).csv', delimiter = ';', encoding='latin-1')\n"
   ]
  },
  {
   "cell_type": "markdown",
   "metadata": {
    "id": "0U5QO3XAXG-L"
   },
   "source": [
    "### Feauture Selection Area Caracteristicas Generales"
   ]
  },
  {
   "cell_type": "code",
   "execution_count": 3,
   "metadata": {
    "executionInfo": {
     "elapsed": 312,
     "status": "ok",
     "timestamp": 1695400226689,
     "user": {
      "displayName": "jorge g",
      "userId": "13903497703036498391"
     },
     "user_tz": 300
    },
    "id": "wfMo8Y84XDRp"
   },
   "outputs": [],
   "source": [
    "# se seleccionan las variables que se van a dejar (Feature Selection)\n",
    "car = car[[\"DIRECTORIO\",\"ORDEN\",\"HOGAR\",\"P6071S1\",\"P6040\",\"P6020\" ,\"P6050\",\"P6071\",\"P6070\",\"DPTO\" ,\"P6090\",\"P6170\",\"P6175\",\"ESC\"]]\n",
    "# Se les cambia el nombre pra que sea facil trabajar\n",
    "car.columns=[\"DIRECTORIO\",\"ORDEN\",\"HOGAR\",\"orden_conyugue\", \"edad\",\"sexo\", \"rol_hogar\", \"conyuge_en_hogar\",  \"estado_civil\"  ,\"DPTO\",\"seguridadsocial\",\"estudia\",\"educ_publica\",\"educacion\"]"
   ]
  },
  {
   "cell_type": "markdown",
   "metadata": {},
   "source": [
    "### Data manipulation caracteristicas Generales"
   ]
  },
  {
   "cell_type": "code",
   "execution_count": 4,
   "metadata": {
    "id": "z8MJ-eIQZboV"
   },
   "outputs": [],
   "source": [
    "car[\"sexo\"]=car[\"sexo\"].replace({1:'hombre',2:'mujer'})\n",
    "car[\"rol_hogar\"]=car[\"rol_hogar\"].replace({1:'jefe',2:'pareja_jefe',3:'hijo/a_jefe',4:'nieto_jefe',5:'otro',6:'empleado_jefe',7:'pensionista',8:'trabajador',9:'otronopariente'})\n",
    "car[\"seguridadsocial\"]=car[\"seguridadsocial\"].replace({1:'asegurado',2:'noasegurado'})\n",
    "car[\"estudia\"]=car[\"estudia\"].replace({2:0})\n",
    "car[\"educ_publica\"]=car[\"educ_publica\"].replace({2:0})\n",
    "car['DPTO'] = car['DPTO'].replace({68:'Santander', 8:'Atlantico', 76:'Valle', 23:'Cordoba', 17:'Caldas',13:'Bolivar',5:'Antioquia',11:'Bogota',52:'Nariño',66:'Risaralda',50:'Meta',54:'Norte de Santander',73:'Tolima'})\n",
    "car['estado_civil'] = car['estado_civil'].replace({2:'Nocasados_viven>2años', 1:'Nocasados_viven<2años', 3:'Casados',4:'separados',5:'viudo',6:'soltero'})\n"
   ]
  },
  {
   "cell_type": "markdown",
   "metadata": {
    "id": "deKWh1MvZfVF"
   },
   "source": [
    "## Area-Ocupados"
   ]
  },
  {
   "cell_type": "code",
   "execution_count": 5,
   "metadata": {
    "executionInfo": {
     "elapsed": 823,
     "status": "ok",
     "timestamp": 1695400229445,
     "user": {
      "displayName": "jorge g",
      "userId": "13903497703036498391"
     },
     "user_tz": 300
    },
    "id": "FUIc6FefYBP6"
   },
   "outputs": [],
   "source": [
    "ocu = pd.read_csv(r'C:\\Users\\JORGE\\Documents\\CSV\\Enero\\Área - Ocupados.csv',delimiter=';', encoding='latin-1')"
   ]
  },
  {
   "cell_type": "markdown",
   "metadata": {},
   "source": [
    "### Feauture Selection Area ocupados"
   ]
  },
  {
   "cell_type": "code",
   "execution_count": 6,
   "metadata": {
    "executionInfo": {
     "elapsed": 3,
     "status": "ok",
     "timestamp": 1695400230260,
     "user": {
      "displayName": "jorge g",
      "userId": "13903497703036498391"
     },
     "user_tz": 300
    },
    "id": "H6_5Lrv1dULK"
   },
   "outputs": [],
   "source": [
    "ocu = ocu[[\"DIRECTORIO\",\"ORDEN\",\"INGLABO\",'P6440','P6460','P6790','OCI','P6430']]\n",
    "ocu.columns = [\"DIRECTORIO\",\"ORDEN\",\"INGLABO\", 'tipocontrato','terminocontrato','mesestrabajoultimoaño','ocupados','tipocupacion']"
   ]
  },
  {
   "cell_type": "markdown",
   "metadata": {},
   "source": [
    "### Data manipulation "
   ]
  },
  {
   "cell_type": "code",
   "execution_count": 7,
   "metadata": {
    "executionInfo": {
     "elapsed": 246,
     "status": "ok",
     "timestamp": 1695400243996,
     "user": {
      "displayName": "jorge g",
      "userId": "13903497703036498391"
     },
     "user_tz": 300
    },
    "id": "YOF8R-0ldy10"
   },
   "outputs": [],
   "source": [
    "ocu['tipocontrato'] = ocu['tipocontrato'].replace({1:'Verbal',2:'Escrito',3:'Noinfo'})\n",
    "ocu['terminocontrato'] = ocu['terminocontrato'].replace({1:'indefinido',2:'fijo',3:'Noinfo'})\n",
    "ocu['tipocupacion'] = ocu['tipocupacion'].replace({1:'empleadoempresa',2:'empleadogobierno',3:'empleadodomestico',4:'cuentapropia',5:'empleador',6:'familiarnoremu',7:'empleadonoremu',8:'jornalero',9:'otro'})"
   ]
  },
  {
   "cell_type": "markdown",
   "metadata": {
    "id": "qFsCqHjgtLWM"
   },
   "source": [
    "### Mezcla Base 1 y 2"
   ]
  },
  {
   "cell_type": "code",
   "execution_count": 8,
   "metadata": {
    "executionInfo": {
     "elapsed": 228,
     "status": "ok",
     "timestamp": 1695400249425,
     "user": {
      "displayName": "jorge g",
      "userId": "13903497703036498391"
     },
     "user_tz": 300
    },
    "id": "Xlg2WvBHtMfy"
   },
   "outputs": [],
   "source": [
    "car_ocu = car.merge(ocu, on = ['DIRECTORIO','ORDEN'])"
   ]
  },
  {
   "cell_type": "markdown",
   "metadata": {},
   "source": [
    "# Area otras ayudas"
   ]
  },
  {
   "cell_type": "code",
   "execution_count": 9,
   "metadata": {
    "id": "ZFApniO6xVJl"
   },
   "outputs": [],
   "source": [
    "dom = pd.read_csv(r'C:\\Users\\JORGE\\Documents\\CSV\\Enero\\Área - Otras actividades y ayudas en la semana.csv',delimiter=';')"
   ]
  },
  {
   "cell_type": "code",
   "execution_count": 10,
   "metadata": {},
   "outputs": [],
   "source": [
    "dom = dom[['DIRECTORIO','ORDEN','P7480S3A1']]\n",
    "dom.columns=['DIRECTORIO','ORDEN','horas_labores_domesticas']"
   ]
  },
  {
   "cell_type": "markdown",
   "metadata": {},
   "source": [
    "### Merge"
   ]
  },
  {
   "cell_type": "code",
   "execution_count": 11,
   "metadata": {},
   "outputs": [],
   "source": [
    "# Base final\n",
    "merge1 = car_ocu.merge(dom, on = ['DIRECTORIO','ORDEN'])\n",
    "#print('La base de datos tiene '+str(len(df))+' observaciones y tiene '+str(len(df.dropna()))+' quitando valores nulos')"
   ]
  },
  {
   "cell_type": "markdown",
   "metadata": {},
   "source": [
    "# Area vivienda"
   ]
  },
  {
   "cell_type": "code",
   "execution_count": 12,
   "metadata": {},
   "outputs": [],
   "source": [
    "viv = pd.read_csv(r'C:\\Users\\JORGE\\Documents\\CSV\\Enero\\Área - Vivienda y Hogares.csv',delimiter=';')"
   ]
  },
  {
   "cell_type": "code",
   "execution_count": 13,
   "metadata": {},
   "outputs": [],
   "source": [
    "viv = viv[[\"DIRECTORIO\",\"HOGAR\",'P5000','P5210S3','P5210S4','P5210S2','P5210S5','P5210S7','P5210S16','P5210S21','P5210S22','P6008','P4000','P4030S1']]\n",
    "viv.columns = [\"DIRECTORIO\",\"HOGAR\",'#_cuartos_vivienda','internet','lavadora','television','nevera','estufa','computador','moto','carroparticular','totalpersonashogar','tipovivienda','energia']\n",
    "\n",
    "#viv['tipovivienda']=viv['tipovivienda'].replace({1:'casa',2:'apto',3:'cuartoalqui',4:'cuartootro',5:'indigena',6:'otra'})\n",
    "viv['internet']=viv['internet'].replace({2:0})\n",
    "viv['lavadora']=viv['lavadora'].replace({2:0})\n",
    "viv['television']=viv['television'].replace({2:0})\n",
    "viv['nevera']=viv['nevera'].replace({2:0})\n",
    "viv['estufa']=viv['estufa'].replace({2:0})\n",
    "viv['computador']=viv['computador'].replace({2:0})\n",
    "viv['moto']=viv['moto'].replace({2:0})\n",
    "viv['carroparticular']=viv['carroparticular'].replace({2:0})\n",
    "viv['energia']=viv['energia'].replace({2:0})"
   ]
  },
  {
   "cell_type": "markdown",
   "metadata": {},
   "source": [
    "# BAse final"
   ]
  },
  {
   "cell_type": "code",
   "execution_count": 14,
   "metadata": {},
   "outputs": [],
   "source": [
    "df = merge1.merge(viv, on = ['DIRECTORIO',\"HOGAR\"])"
   ]
  }
 ],
 "metadata": {
  "colab": {
   "authorship_tag": "ABX9TyNeVBZYva880qzMUSgv33CV",
   "provenance": []
  },
  "kernelspec": {
   "display_name": "Python 3 (ipykernel)",
   "language": "python",
   "name": "python3"
  },
  "language_info": {
   "codemirror_mode": {
    "name": "ipython",
    "version": 3
   },
   "file_extension": ".py",
   "mimetype": "text/x-python",
   "name": "python",
   "nbconvert_exporter": "python",
   "pygments_lexer": "ipython3",
   "version": "3.11.4"
  }
 },
 "nbformat": 4,
 "nbformat_minor": 4
}
